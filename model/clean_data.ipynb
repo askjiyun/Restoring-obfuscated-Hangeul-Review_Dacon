{
 "cells": [
  {
   "cell_type": "code",
   "execution_count": 1,
   "id": "a330a613-ac03-4f07-a809-0269b1054492",
   "metadata": {},
   "outputs": [],
   "source": [
    "import pandas as pd\n",
    "import os"
   ]
  },
  {
   "cell_type": "code",
   "execution_count": 3,
   "id": "a6cfbdac-36a7-499c-87bf-fae9d2e70d1a",
   "metadata": {},
   "outputs": [],
   "source": [
    "# CSV 파일 불러오기\n",
    "file_path = \"data/merged_data.csv\"  # 파일 경로 설정\n",
    "df = pd.read_csv(file_path, encoding = 'utf-8')\n",
    "\n",
    "# null 값이 포함된 행 삭제\n",
    "df_cleaned = df.dropna()"
   ]
  },
  {
   "cell_type": "code",
   "execution_count": 4,
   "id": "223db713-8d07-4e3f-a243-5cf7c71c0ed7",
   "metadata": {},
   "outputs": [
    {
     "name": "stdout",
     "output_type": "stream",
     "text": [
      "             ID                                              input  \\\n",
      "0  TRAIN_000000  별 딴 레토 았깝땀. 왜 싸람듯릭 펼 1캐틀 쥰눈징 컥꺾폰 싸람믐롯섞 맒록 섧멍핥쟈...   \n",
      "1  TRAIN_000001                             잚많 갹꼬 찱 태 좋눼욥. 차홋동 줆 ㅋ   \n",
      "2  TRAIN_000002                                    절테 간면 않 된는 굣 멥몫   \n",
      "3  TRAIN_000003  야... 칵컥 좋꾜 부됴 뼝 뚫렷썹 신원햐쥠만 밞패 멤멘 밌쪄벅림. 샥퀘 핥류산 묵...   \n",
      "4  TRAIN_000004  집윈 축쳐눌료 딴너왓눈뎁 카셩뷔 좋곱 칼쿰한네올. 쩌컴한뒈 뮬촤 욺뇨모 잊쿄 빻토 ...   \n",
      "\n",
      "                                              output  \n",
      "0  별 한 개도 아깝다. 왜 사람들이 별 1개를 주는지 겪어본 사람으로서 말로 설명하자...  \n",
      "1                             잠만 자고 갈 때 좋네요. 잠옷도 줌 ㅋ  \n",
      "2                                    절대 가면 안 되는 곳 메모  \n",
      "3  아... 가격 좋고 뷰도 뻥 뚫려서 시원하지만 담배 냄새 미쳐버림. 싸게 하루만 묵...  \n",
      "4  지인 추천으로 다녀왔는데 가성비 좋고 깔끔하네요. 저렴한데 물과 음료도 있고 방도 ...  \n"
     ]
    }
   ],
   "source": [
    "# 결과 저장 (선택 사항)\n",
    "df_cleaned.to_csv(\"cleaned_merged_data.csv\", index=False)\n",
    "\n",
    "# 확인\n",
    "print(df_cleaned.head())"
   ]
  },
  {
   "cell_type": "code",
   "execution_count": null,
   "id": "17c25e4b-a112-433a-9917-80ca00495fe7",
   "metadata": {},
   "outputs": [],
   "source": []
  }
 ],
 "metadata": {
  "kernelspec": {
   "display_name": "Python 3 (ipykernel)",
   "language": "python",
   "name": "python3"
  },
  "language_info": {
   "codemirror_mode": {
    "name": "ipython",
    "version": 3
   },
   "file_extension": ".py",
   "mimetype": "text/x-python",
   "name": "python",
   "nbconvert_exporter": "python",
   "pygments_lexer": "ipython3",
   "version": "3.11.9"
  }
 },
 "nbformat": 4,
 "nbformat_minor": 5
}
