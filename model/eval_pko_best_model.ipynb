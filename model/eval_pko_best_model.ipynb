{
 "cells": [
  {
   "cell_type": "code",
   "execution_count": 1,
   "id": "1c65e406-46c1-4237-94c2-ddf469b3ac96",
   "metadata": {},
   "outputs": [],
   "source": [
    "import pandas as pd\n",
    "import torch\n",
    "from transformers import AutoTokenizer, AutoModelForSeq2SeqLM, TrainingArguments, Trainer\n",
    "from datasets import Dataset\n",
    "from tqdm import tqdm\n",
    "import os"
   ]
  },
  {
   "cell_type": "code",
   "execution_count": 2,
   "id": "b211ec41-b205-461d-8317-e026ea6bb68b",
   "metadata": {},
   "outputs": [],
   "source": [
    "# 데이터 로드\n",
    "test_data = pd.read_csv('./data/test.csv', encoding='utf-8-sig')"
   ]
  },
  {
   "cell_type": "code",
   "execution_count": 3,
   "id": "b13417da-d237-4b7e-805b-eb0d2249f921",
   "metadata": {},
   "outputs": [],
   "source": [
    "# 모델과 토크나이저 로드\n",
    "model_dir = \"./best_model_augmented\"  # 체크포인트에서 모델 로드\n",
    "tokenizer = AutoTokenizer.from_pretrained(model_dir)\n",
    "model = AutoModelForSeq2SeqLM.from_pretrained(model_dir)\n"
   ]
  },
  {
   "cell_type": "code",
   "execution_count": 4,
   "id": "cbe0b0b0-b20d-41b2-8590-426632574e97",
   "metadata": {},
   "outputs": [
    {
     "data": {
      "text/plain": [
       "T5ForConditionalGeneration(\n",
       "  (shared): Embedding(50358, 768)\n",
       "  (encoder): T5Stack(\n",
       "    (embed_tokens): Embedding(50358, 768)\n",
       "    (block): ModuleList(\n",
       "      (0): T5Block(\n",
       "        (layer): ModuleList(\n",
       "          (0): T5LayerSelfAttention(\n",
       "            (SelfAttention): T5Attention(\n",
       "              (q): Linear(in_features=768, out_features=768, bias=False)\n",
       "              (k): Linear(in_features=768, out_features=768, bias=False)\n",
       "              (v): Linear(in_features=768, out_features=768, bias=False)\n",
       "              (o): Linear(in_features=768, out_features=768, bias=False)\n",
       "              (relative_attention_bias): Embedding(32, 12)\n",
       "            )\n",
       "            (layer_norm): T5LayerNorm()\n",
       "            (dropout): Dropout(p=0.1, inplace=False)\n",
       "          )\n",
       "          (1): T5LayerFF(\n",
       "            (DenseReluDense): T5DenseGatedActDense(\n",
       "              (wi_0): Linear(in_features=768, out_features=2048, bias=False)\n",
       "              (wi_1): Linear(in_features=768, out_features=2048, bias=False)\n",
       "              (wo): Linear(in_features=2048, out_features=768, bias=False)\n",
       "              (dropout): Dropout(p=0.1, inplace=False)\n",
       "              (act): NewGELUActivation()\n",
       "            )\n",
       "            (layer_norm): T5LayerNorm()\n",
       "            (dropout): Dropout(p=0.1, inplace=False)\n",
       "          )\n",
       "        )\n",
       "      )\n",
       "      (1-11): 11 x T5Block(\n",
       "        (layer): ModuleList(\n",
       "          (0): T5LayerSelfAttention(\n",
       "            (SelfAttention): T5Attention(\n",
       "              (q): Linear(in_features=768, out_features=768, bias=False)\n",
       "              (k): Linear(in_features=768, out_features=768, bias=False)\n",
       "              (v): Linear(in_features=768, out_features=768, bias=False)\n",
       "              (o): Linear(in_features=768, out_features=768, bias=False)\n",
       "            )\n",
       "            (layer_norm): T5LayerNorm()\n",
       "            (dropout): Dropout(p=0.1, inplace=False)\n",
       "          )\n",
       "          (1): T5LayerFF(\n",
       "            (DenseReluDense): T5DenseGatedActDense(\n",
       "              (wi_0): Linear(in_features=768, out_features=2048, bias=False)\n",
       "              (wi_1): Linear(in_features=768, out_features=2048, bias=False)\n",
       "              (wo): Linear(in_features=2048, out_features=768, bias=False)\n",
       "              (dropout): Dropout(p=0.1, inplace=False)\n",
       "              (act): NewGELUActivation()\n",
       "            )\n",
       "            (layer_norm): T5LayerNorm()\n",
       "            (dropout): Dropout(p=0.1, inplace=False)\n",
       "          )\n",
       "        )\n",
       "      )\n",
       "    )\n",
       "    (final_layer_norm): T5LayerNorm()\n",
       "    (dropout): Dropout(p=0.1, inplace=False)\n",
       "  )\n",
       "  (decoder): T5Stack(\n",
       "    (embed_tokens): Embedding(50358, 768)\n",
       "    (block): ModuleList(\n",
       "      (0): T5Block(\n",
       "        (layer): ModuleList(\n",
       "          (0): T5LayerSelfAttention(\n",
       "            (SelfAttention): T5Attention(\n",
       "              (q): Linear(in_features=768, out_features=768, bias=False)\n",
       "              (k): Linear(in_features=768, out_features=768, bias=False)\n",
       "              (v): Linear(in_features=768, out_features=768, bias=False)\n",
       "              (o): Linear(in_features=768, out_features=768, bias=False)\n",
       "              (relative_attention_bias): Embedding(32, 12)\n",
       "            )\n",
       "            (layer_norm): T5LayerNorm()\n",
       "            (dropout): Dropout(p=0.1, inplace=False)\n",
       "          )\n",
       "          (1): T5LayerCrossAttention(\n",
       "            (EncDecAttention): T5Attention(\n",
       "              (q): Linear(in_features=768, out_features=768, bias=False)\n",
       "              (k): Linear(in_features=768, out_features=768, bias=False)\n",
       "              (v): Linear(in_features=768, out_features=768, bias=False)\n",
       "              (o): Linear(in_features=768, out_features=768, bias=False)\n",
       "            )\n",
       "            (layer_norm): T5LayerNorm()\n",
       "            (dropout): Dropout(p=0.1, inplace=False)\n",
       "          )\n",
       "          (2): T5LayerFF(\n",
       "            (DenseReluDense): T5DenseGatedActDense(\n",
       "              (wi_0): Linear(in_features=768, out_features=2048, bias=False)\n",
       "              (wi_1): Linear(in_features=768, out_features=2048, bias=False)\n",
       "              (wo): Linear(in_features=2048, out_features=768, bias=False)\n",
       "              (dropout): Dropout(p=0.1, inplace=False)\n",
       "              (act): NewGELUActivation()\n",
       "            )\n",
       "            (layer_norm): T5LayerNorm()\n",
       "            (dropout): Dropout(p=0.1, inplace=False)\n",
       "          )\n",
       "        )\n",
       "      )\n",
       "      (1-11): 11 x T5Block(\n",
       "        (layer): ModuleList(\n",
       "          (0): T5LayerSelfAttention(\n",
       "            (SelfAttention): T5Attention(\n",
       "              (q): Linear(in_features=768, out_features=768, bias=False)\n",
       "              (k): Linear(in_features=768, out_features=768, bias=False)\n",
       "              (v): Linear(in_features=768, out_features=768, bias=False)\n",
       "              (o): Linear(in_features=768, out_features=768, bias=False)\n",
       "            )\n",
       "            (layer_norm): T5LayerNorm()\n",
       "            (dropout): Dropout(p=0.1, inplace=False)\n",
       "          )\n",
       "          (1): T5LayerCrossAttention(\n",
       "            (EncDecAttention): T5Attention(\n",
       "              (q): Linear(in_features=768, out_features=768, bias=False)\n",
       "              (k): Linear(in_features=768, out_features=768, bias=False)\n",
       "              (v): Linear(in_features=768, out_features=768, bias=False)\n",
       "              (o): Linear(in_features=768, out_features=768, bias=False)\n",
       "            )\n",
       "            (layer_norm): T5LayerNorm()\n",
       "            (dropout): Dropout(p=0.1, inplace=False)\n",
       "          )\n",
       "          (2): T5LayerFF(\n",
       "            (DenseReluDense): T5DenseGatedActDense(\n",
       "              (wi_0): Linear(in_features=768, out_features=2048, bias=False)\n",
       "              (wi_1): Linear(in_features=768, out_features=2048, bias=False)\n",
       "              (wo): Linear(in_features=2048, out_features=768, bias=False)\n",
       "              (dropout): Dropout(p=0.1, inplace=False)\n",
       "              (act): NewGELUActivation()\n",
       "            )\n",
       "            (layer_norm): T5LayerNorm()\n",
       "            (dropout): Dropout(p=0.1, inplace=False)\n",
       "          )\n",
       "        )\n",
       "      )\n",
       "    )\n",
       "    (final_layer_norm): T5LayerNorm()\n",
       "    (dropout): Dropout(p=0.1, inplace=False)\n",
       "  )\n",
       "  (lm_head): Linear(in_features=768, out_features=50358, bias=False)\n",
       ")"
      ]
     },
     "execution_count": 4,
     "metadata": {},
     "output_type": "execute_result"
    }
   ],
   "source": [
    "device = \"cuda\" if torch.cuda.is_available() else \"cpu\"\n",
    "model.to(device)"
   ]
  },
  {
   "cell_type": "code",
   "execution_count": 7,
   "id": "385e38d6-74c7-4e8f-8717-c583acd9160d",
   "metadata": {},
   "outputs": [],
   "source": [
    "# 테스트 데이터 예측\n",
    "def generate_predictions(test_data, batch_size=16):\n",
    "    prefix = (\n",
    "        \"당신은 한국어 리뷰 복원 전문가입니다.\\n\"\n",
    "        \"당신의 임무는 난독화된 한글 리뷰를 분석하고, 이를 자연스럽고 명확한 원래 의미의 한글 리뷰로 복원하는 것입니다.\\n\"\n",
    "        \"난독화된 리뷰의 단어를 원본 단어로 복원하고, 띄어쓰기와 문장 구조도 원래대로 복원하세요.\\n\"\n",
    "        \"문맥을 분석하여 자연스럽고 의미 있는 복원을 수행하며, 출력은 오직 한국어로만 작성하십시오.\"\n",
    "    )\n",
    "    \n",
    "    predictions = []\n",
    "    # tqdm으로 진행 상황 표시\n",
    "    for i in tqdm(range(0, len(test_data), batch_size), desc=\"🔍 Predicting\", unit=\"batch\"):\n",
    "        batch = test_data['input'][i:i + batch_size]\n",
    "        inputs = [prefix + inp for inp in batch]\n",
    "        \n",
    "        # 토크나이징\n",
    "        tokenized_inputs = tokenizer(inputs, max_length=512, truncation=True, padding=\"max_length\", return_tensors=\"pt\")\n",
    "        tokenized_inputs = {k: v.to(device) for k, v in tokenized_inputs.items()}\n",
    "        \n",
    "        # 모델 추론\n",
    "        with torch.no_grad():\n",
    "            outputs = model.generate(**tokenized_inputs, max_length=512, num_beams=5, early_stopping=True)\n",
    "        \n",
    "        # 결과 디코딩\n",
    "        batch_predictions = tokenizer.batch_decode(outputs, skip_special_tokens=True)\n",
    "        predictions.extend(batch_predictions)\n",
    "        \n",
    "        # 각 배치에서 첫 번째 샘플만 출력\n",
    "        print(f\"\\n🔹 [Batch {i // batch_size + 1}]\\n\")\n",
    "        print(f\"📌 난독화된 입력: {batch.iloc[0]}\")  # 첫 번째 샘플\n",
    "        print(f\"✅ 복원된 출력: {batch_predictions[0]}\\n\")\n",
    "    \n",
    "    return predictions"
   ]
  },
  {
   "cell_type": "code",
   "execution_count": 8,
   "id": "ced99cdf-65d4-46dc-b001-1dcd3167b0ad",
   "metadata": {},
   "outputs": [
    {
     "name": "stderr",
     "output_type": "stream",
     "text": [
      "🔍 Predicting:   1%|▌                                                          | 1/106 [00:11<20:03, 11.46s/batch]"
     ]
    },
    {
     "name": "stdout",
     "output_type": "stream",
     "text": [
      "\n",
      "🔹 [Batch 1]\n",
      "\n",
      "📌 난독화된 입력: 녀뮨넒뭅 만죡숭러윤 효템뤼에오. 푸싸눼 옰면 콕 츄쩐학꼬 싶은 콧쉰웨오. 췌꾜윕뉘댜! ㅎㅎ 당음웨 또 옭 컷 갗았요.\n",
      "✅ 복원된 출력: 너무너무 만족스러운 호텔이에요. 부산에 오면 꼭 추천하고 싶은 곳이에요. 최고입니다! ᄒᄒ 다음에 또 올 것 같아요.\n",
      "\n"
     ]
    },
    {
     "name": "stderr",
     "output_type": "stream",
     "text": [
      "🔍 Predicting:   2%|█                                                          | 2/106 [00:25<22:07, 12.76s/batch]"
     ]
    },
    {
     "name": "stdout",
     "output_type": "stream",
     "text": [
      "\n",
      "🔹 [Batch 2]\n",
      "\n",
      "📌 난독화된 입력: 뺨튈륨 괜찬았옅욤! 쿄테끼량 둥랐임깆또 인셔셔 좋았서온.\n",
      "✅ 복원된 출력: 파티룸 괜찮았어요! 고데기랑 드라이기도 있어서 좋았어요.\n",
      "\n"
     ]
    },
    {
     "name": "stderr",
     "output_type": "stream",
     "text": [
      "🔍 Predicting:   3%|█▋                                                         | 3/106 [00:44<27:10, 15.83s/batch]"
     ]
    },
    {
     "name": "stdout",
     "output_type": "stream",
     "text": [
      "\n",
      "🔹 [Batch 3]\n",
      "\n",
      "📌 난독화된 입력: 한국예 닛쉬뛔쯔 효텔 쳬인처민 있는 줄 앎야쑴먼 친쟉예 위용햇울 뗀떼, 튀늦계 얄계 뙤엄 얏쒸욺위 낢숩뉘탸.   (쟝졈)  - 첩군셩윈 납뿌짓 앉쑵닝닳. (푿샨얾궤섯 볏쓰 15퓬)  - 룝빛갸 3쯩익랴 홅텔 출윕 쉬 플랐윕삣 뽀짱위 됩뉘댜.  - 삐롤를 풂 슈 있눈 데욕턍괆 퓌툰닙씀 쏀턱갸 찌햐 1쯩엘 잊숲닐탸.  - 쥐퀀뷴뜰륌 메윷 찐철합닛따.  - 빵 쩡솥 쌓땐납 륨 껀딨션위 윌푠 치졈웨 피헤 훌룽합뉘따.  - 효텔 넵북같 쩐쩨적끄료 좀용한 뷰뉘낀윕니닥.  - 1충예 캅폐 췌윈젊괌 펀늬쩜읾 있습닐탁.  - 뺘룬 췌킁윈 까능(14씹붙떠)   (단쩜)  - 통윱립랒섯 욉뷰 빵음잃 짤 얀 됩뉘댜. (짢 겅척 숄뤼 등)  - 떼옥땅은 율로 잊옹윕뉘담(1잃 위용 5,000원, 23심 총룟).  - 에엌꺽뉘 윌뵨 홀텔엣섰 폴 쑤 있눈 쳔쟝 잃쳬헝윕니탸. (딴, 욘또, 퓽속 둥 캡벌 섧졍 까눙)  - 태옥땅 몇몄 붑븃눈 봇쑥갖 필올합뉘닿.  - 춥펴눼써 뀐뉠 헥껄햐럼먼 졺 겨령아 합뉩닦.   꼴롬날 뗌뮨예 충쿡인울 퐁함한 웨국 콴꽝깩익 엽섰섦 셌샹 뻔햐꿰 잎옹 잚했쑵닛댜. 쥬버니 우훙걍잉귄 한톄, 홉뗄 위용햐는 뗀는 치장 1돐 엎곤, 확실힙 똑코윈과 또옷인 싸있 충칸 정됴 꿜립띠위 합뤼척귄 피춘닛수 효텔윕뉘따. 쭐창핫쉭는 뷴닝낭 횬차 옇헹햐씬눈 푼들위 숙팍햐먼 많촉할 쑥숌잎뉘타. 차쥬 윔옹함곡 쉽푼 꼿윕니따.\n",
      "✅ 복원된 출력: 한국에 신라스테이 호텔 체인점이 있는 줄 알았으면 진작에 이용했을 텐데, 늦게 알게 되어 아쉬움이 남습니다.   (장점)  - 접근성이 나쁘지 않습니다. (부산역에서 버스 15분)  - 로비가 3층이라 호텔 출입 시 프라이빗 보장이 됩니다.  - 피로를 풀 수 있는 대욕탕과 피트니스 센터가 지하 1층에 있습니다.  - 직원분들이 매우 친절합니다.  - 방 청소 상태나 룸 컨디션이 일본 지점에 비해 훌륭합니다.  - 호텔 내부가 전체적으로 조용한 분위기입니다.  - 1층에 카페 체인점과 편의점이 있습니다.  - 빠른 체크인 가능(14시부터)   (단점)  - 통유리라서 외부 방음이 잘 안 됩니다. (차 경적 소리 등)  - 대욕탕은 유료 이용이 가능합니다.\n",
      "\n"
     ]
    },
    {
     "name": "stderr",
     "output_type": "stream",
     "text": [
      "🔍 Predicting:   4%|██▏                                                        | 4/106 [01:06<30:41, 18.05s/batch]"
     ]
    },
    {
     "name": "stdout",
     "output_type": "stream",
     "text": [
      "\n",
      "🔹 [Batch 4]\n",
      "\n",
      "📌 난독화된 입력: 완젼 쉰쭉! 완쳔 색컫!위 늪킴운 얀뉜찡만 륌몲델링읾 뒈엾 욘랠뙨 얹쉭위 쿠켸 늑꺼칟짓 않얏성오. 텔뤼섟 뺘탁꽈 엔튁끝한 갊썽, 욧션푸왑 많난닙 녀 깜셩척\n",
      "✅ 복원된 출력: 완전 신축! 완전 새것!의 느낌은 아니지만 리모델링이 되어 오래된 연식이 크게 느껴지지 않았어요. 대리석 바닥과 산뜻한 감성, 오션뷰와 만나니 너 감성적 \n",
      "\n"
     ]
    },
    {
     "name": "stderr",
     "output_type": "stream",
     "text": [
      "🔍 Predicting:   5%|██▊                                                        | 5/106 [01:18<27:01, 16.06s/batch]"
     ]
    },
    {
     "name": "stdout",
     "output_type": "stream",
     "text": [
      "\n",
      "🔹 [Batch 5]\n",
      "\n",
      "📌 난독화된 입력: 븃샨 빵문 태맛따 위옹합뉘따. 메읽 쩡쏙툐 헨줏씨공, 묾륄랗 쑤컨또 많위 쳉커 추싶뉠닥. 툭힝 방잎 넒엮 쥔쨔 좋야오ㅎㅎ 냠뽄똥 군쩌량 핍쁘 결뤼, 캉똥싶장, 국쳇쉼창 툐뽀로 갼능합뉘탸. 냠뽀역 7편 출궂 뱌로 앞읍료 찐햐철 딱교 단닉긷독 좋숲님닮~~\n",
      "✅ 복원된 출력: 부산 방문 때마다 이용합니다. 매일 청소도 해주시고, 물이랑 수건도 많이 챙겨 주십니다. 특히 방이 넓어 진짜 좋아요ᄒᄒ 남포동 근처랑 버스 거리, 깡통시장, 국제시장 도보로 가능합니다. 남포역 7번 출구 바로 앞으로 친절 타고 다니기도 좋습니다~~\n",
      "\n"
     ]
    },
    {
     "name": "stderr",
     "output_type": "stream",
     "text": [
      "🔍 Predicting:   6%|███▎                                                       | 6/106 [01:28<23:25, 14.06s/batch]"
     ]
    },
    {
     "name": "stdout",
     "output_type": "stream",
     "text": [
      "\n",
      "🔹 [Batch 6]\n",
      "\n",
      "📌 난독화된 입력: 쩝끈셩됴 좋콕, 깬꿋핫네욥.\n",
      "✅ 복원된 출력: 접근성도 좋고, 깨끗하네요.\n",
      "\n"
     ]
    },
    {
     "name": "stderr",
     "output_type": "stream",
     "text": [
      "🔍 Predicting:   7%|███▉                                                       | 7/106 [01:50<27:20, 16.58s/batch]"
     ]
    },
    {
     "name": "stdout",
     "output_type": "stream",
     "text": [
      "\n",
      "🔹 [Batch 7]\n",
      "\n",
      "📌 난독화된 입력: 팡람 푸눈 냘른 친착 쉭꾸렵넵오~ 탄어똥표단눈 본괄니 낫넷오~\n",
      "✅ 복원된 출력: 바람 부는 날은 진짜 시끄럽네요~ 타워동보다는 본관이 낫네요~\n",
      "\n"
     ]
    },
    {
     "name": "stderr",
     "output_type": "stream",
     "text": [
      "🔍 Predicting:   8%|████▍                                                      | 8/106 [02:05<26:06, 15.98s/batch]"
     ]
    },
    {
     "name": "stdout",
     "output_type": "stream",
     "text": [
      "\n",
      "🔹 [Batch 8]\n",
      "\n",
      "📌 난독화된 입력: 따음옛 죵훈 샤람 셍킴먼 갖위 욜궤용^^ 깡추!!!\n",
      "✅ 복원된 출력: 다음에 좋은 사람 생기면 같이 올게요^^ 강추!!!\n",
      "\n"
     ]
    },
    {
     "name": "stderr",
     "output_type": "stream",
     "text": [
      "🔍 Predicting:   8%|█████                                                      | 9/106 [02:17<23:45, 14.70s/batch]"
     ]
    },
    {
     "name": "stdout",
     "output_type": "stream",
     "text": [
      "\n",
      "🔹 [Batch 9]\n",
      "\n",
      "📌 난독화된 입력: 토긺 찐쿠카 한국옌 와셔 뱝 샤줅 켬 팡뮨했눈떼 좋았엇욥.\n",
      "✅ 복원된 출력: 동기 친구가 한국에 와서 밥 사줄 겸 방문했는데 좋았어요.\n",
      "\n"
     ]
    },
    {
     "name": "stderr",
     "output_type": "stream",
     "text": [
      "🔍 Predicting:   9%|█████▍                                                    | 10/106 [02:30<22:38, 14.15s/batch]"
     ]
    },
    {
     "name": "stdout",
     "output_type": "stream",
     "text": [
      "\n",
      "🔹 [Batch 10]\n",
      "\n",
      "📌 난독화된 입력: 륨 켠티션: 5썽굽뵤닸 떠 쉴용적긺   쭈짜: 쬐악, 1밗닿 15,000원   죠쉭: 핵쉼정킨 겯둘은 답 잊쑴. 맏은 뻥균.   쥐껀틀 웅데: 췬젊햐탄눈 누뀜울 받쥔 못함.   4충 론뷕까 랴윤치 팔량 삐즌뉘수 쎈턱갸 딱 뜨어 잊움.   랖윤쥑같 묾룔는 않뉘치많 꺅걱귀 져럼한 편.   피 욤먼 윤찌 끝쟝낢.   쵯샹끕 빵윈찌는 몲룻쥐많 3 씽굴 벧두, 빚츤니쓿 톄위쁠 끈 겉, 환쟝싫토 큭교 읾반 룸 데피 2빼 쩡또 끄귀윕닌댜.   퍄팃선잇 딸료 잊집는 안숩뉘닦.   청먈 많죡쑤렇욺!!!! 함륀 팠꼬 받딴 10만언 않촉을로 2팍 할콕 까눈떼, 졍맒 잃 찰학쿄 깝님따.\n",
      "✅ 복원된 출력: 룸 컨디션: 5성급보다 더 실용적임   주차: 최악, 1박당 15,000원   조식: 해먹기 귀찮은 것들은 다 있음. 맛은 보장.   직원들 응대: 친절하다는 느낌을 받지 못함.   4층 로비가 라운지 바랑 피트니스 센터가 탁 트여 있음.   라운지가 무료는 아니지만 가격이 저렴한 편.   비 오면 운치 끝장남.   최상급 방인지는 모르지만 3 싱글 베드, 비즈니스 테이블 큰 것, 화장실도 크고 일반 룸 대비 2배 정도 크기입니다.   파라솔이 따로 있지는 않습니다.   정말 만족스러움!!!! 하루 빼고 바다 10만원 안쪽으로 2박 하고 가는데, 정말 이 잘하고 갑니다.\n",
      "\n"
     ]
    },
    {
     "name": "stderr",
     "output_type": "stream",
     "text": [
      "🔍 Predicting:  10%|██████                                                    | 11/106 [02:41<21:02, 13.29s/batch]"
     ]
    },
    {
     "name": "stdout",
     "output_type": "stream",
     "text": [
      "\n",
      "🔹 [Batch 11]\n",
      "\n",
      "📌 난독화된 입력: 얄잖웨셔 얘약학꼬 닿읾 싸졍 태문녜 생뼉 1씨값 타 될엉 됴짝깼씁뉘닫. 첵쿠윈학교 빵웨 툴옇까셔 췸탭웨 얀았눈톄, 삑삑삑 코츄빨 쇼뤽까 구찍적굳롭 뜰렀습닐닻. 췸땔 며림맡에셔 숄린간 뀨찍쩍읔료 냐코 윗였씁뉘따. 쉰랗콰 듈잊써 헥켤항령 햇독 행컬위 얀 퇴엇씁뉘타. 퉤쓱쿠예 젼화했뎐뉘 쥑졉 확윈햐겠타 옰랴왐셔 한짬 뜯터뉘 뽄뉜운 얀 듦릭콩 윌런 쩍잉 쳐우밂락꾜 했쑵닝타. 챰곰 잣뎐쥐 앝닒면 환풂헤죽겟닮곱 했숩뉘탕. 얘뮌햐따교 햐덕쿤놂. 쌍위 끝웨 율린눈 딸룬 꽂울롱 갸킬롯 했습뉘댜. 환풀햐뀄타 햐교 텟쓱끄료 네력갇는테 깝쟉킨 앞챠엣썽 환뿔햅줄치 묠른닥꼬 햐콧, 엊뛰 카써 윌려면 앉 퇸타곶 햐엿씁뉘댜. 뎅췌 뭘 윕려면 않 뙨탄눈 겨쒼짙...? 굴레셔 여익캬 업였셔 욱뤽갹 읽뷰런 클련 겻톱 야뉜톄 멀 글러면 않 퇸댜곪 할낱교, 욹뤽까 잚묫한 꼐 얀뉘교 객실 결햐뮈찌 안낙코 묽엿씁닙닯. 사쟝뉨운 갚짝귀 맛슬쿨룰 벋쑴몃 쨔씬운 환뷸햄쭈력꼬 햐쿄 잇눈뛔 연썽울 뇹삔딱교 머랗 햇씁닌댜. 구륀교 늣케 왓섶 윌런눈 켯쉭 앙뉠람머 육뤼 잘묫돛 잊딱코 햐옅쑵뉘따.\n",
      "✅ 복원된 출력: 야놀자에서 예약하고 당일 일정 때문에 새벽 1시가 다 되어 도착했습니다. 체크인하고 방에 들어가서 침대에 앉았는데, 삑삑삑 코주발 소리가 지속적으로 들렸습니다. 침대 머리맡에서 소리가 지속적으로 나고 있었습니다. 신랑과 둘이서 해결하려 해도 해결이 안 되었습니다. 데스크에 전화했더니 직접 확인하겠다 올라와서 한참 듣더니 본인은 안 들리고 이런 적이 처음이라고 했습니다. 참고 잤는지 아니면 환불해주겠다고 했습니다. 예민하다고 하더군요. 사이 끝에 우리는 다른 곳으로 가기로 했습니다. 환불하겠다 하고 데스크로 내려갔는데 갑자기 앞차에서 환불해주지 않는다고 하고, 어디 가서 이러면 안 된다고 하였습니다. 대체 뭘 원하면 안 된다는 것인지...? 그래서 어디 가서 어떻게 해야 할지 모르겠습니다. 답변 부탁드립니다.\n",
      "\n"
     ]
    },
    {
     "name": "stderr",
     "output_type": "stream",
     "text": [
      "🔍 Predicting:  11%|██████▌                                                   | 12/106 [02:54<20:39, 13.19s/batch]"
     ]
    },
    {
     "name": "stdout",
     "output_type": "stream",
     "text": [
      "\n",
      "🔹 [Batch 12]\n",
      "\n",
      "📌 난독화된 입력: 첵갸 꺄뵨 펜션 쭝웨셔눈 췌콘넬오. 댜위쓴 트랖익키란닌..... ㅎㅎ T5엔섣 묵얻는뛔, 빠따 젼먕잃 졍맒 좋곬 찜태카 똥랗떽숟란 쩡먈 뽁쉰학교 좋앝여오 ^^ 쌀쟝뉨이 신겅을 많위 쑤신 걷 깥얇용. 쉰쭉길랴 뎌 좋앝눼오 ^^ 뻔챵핫쉐옥~\n",
      "✅ 복원된 출력: 제가 가본 펜션 중에서는 최고네요. 타이틀 드라이기라니..... ᄒᄒ T5에서 묵었는데, 바다 전망이 정말 좋고 침대가 라텍스라 정말 폭신하고 좋았어요 ^^ 사장님이 신경을 많이 쓰신 것 같아요. 신축이라 더 좋았네요 ^^ 번창하세요~\n",
      "\n"
     ]
    },
    {
     "name": "stderr",
     "output_type": "stream",
     "text": [
      "🔍 Predicting:  12%|███████                                                   | 13/106 [03:17<24:58, 16.11s/batch]"
     ]
    },
    {
     "name": "stdout",
     "output_type": "stream",
     "text": [
      "\n",
      "🔹 [Batch 13]\n",
      "\n",
      "📌 난독화된 입력: 뷸간 넒묽 얄룸탕어오. 뿍 쉼딱까 깝닛댜.\n",
      "✅ 복원된 출력: 뷰가 너무 아름다워요. 푹 쉬다가 갑니다.\n",
      "\n"
     ]
    },
    {
     "name": "stderr",
     "output_type": "stream",
     "text": [
      "🔍 Predicting:  13%|███████▋                                                  | 14/106 [03:36<26:06, 17.02s/batch]"
     ]
    },
    {
     "name": "stdout",
     "output_type": "stream",
     "text": [
      "\n",
      "🔹 [Batch 14]\n",
      "\n",
      "📌 난독화된 입력: 깔끎햇셔 쩐럼학궤 햐룩 슉빡까깆 괜짠햐요. 섕캭포닭 헤운태 뭬인관 껼링갸 있썲오.\n",
      "✅ 복원된 출력: 깔끔해서 저렴하게 하루 숙박하기 괜찮아요. 생각보다 해운대 메인과 거리가 있어요.\n",
      "\n"
     ]
    },
    {
     "name": "stderr",
     "output_type": "stream",
     "text": [
      "🔍 Predicting:  14%|████████▏                                                 | 15/106 [03:49<23:55, 15.77s/batch]"
     ]
    },
    {
     "name": "stdout",
     "output_type": "stream",
     "text": [
      "\n",
      "🔹 [Batch 15]\n",
      "\n",
      "📌 난독화된 입력: B동 4506효엣셔 2파깻숲니닯. 교충룸잇랴 방 앉넷써 볼인눈 퓻샨향땍고왕 옇또 뿌컁 췬숱꽁언 뿌깎 졍먈 몇잊씁닛닦. 캑싫웨 컨좃 킨눙인 잇눈 쉐딱퀴왁 쓰딸윌려카 잇열썲 뻔립햐께 이옹헷셜욜.\n",
      "✅ 복원된 출력: B동 4506호에서 2박했습니다. 고층룸이라 방 안에서 보이는 부산항대교와 영도 뷰가 친구공원 뷰가 정말 멋있습니다. 객실에 건조 기능이 있는 세탁기와 스타일러가 있어서 편리하게 이용했어요.\n",
      "\n"
     ]
    },
    {
     "name": "stderr",
     "output_type": "stream",
     "text": [
      "🔍 Predicting:  15%|████████▊                                                 | 16/106 [04:08<25:17, 16.87s/batch]"
     ]
    },
    {
     "name": "stdout",
     "output_type": "stream",
     "text": [
      "\n",
      "🔹 [Batch 16]\n",
      "\n",
      "📌 난독화된 입력: 잎벗녜 연짜췬굶량 깠는테 객싫위 깔꿈핥꾜 싸쟝뉘뮈 친철헤셔 줄꼇윤 옇행학꼬 왔서옭^^\n",
      "✅ 복원된 출력: 이번에 여자친구랑 갔는데 객실이 깔끔하고 사장님이 친절해서 즐거운 여행하고 왔어요^^\n",
      "\n"
     ]
    },
    {
     "name": "stderr",
     "output_type": "stream",
     "text": [
      "🔍 Predicting:  16%|█████████▎                                                | 17/106 [04:21<23:19, 15.73s/batch]"
     ]
    },
    {
     "name": "stdout",
     "output_type": "stream",
     "text": [
      "\n",
      "🔹 [Batch 17]\n",
      "\n",
      "📌 난독화된 입력: 좋운 션땍잎여서오. 여킷까 갸걱 탭뷜 줴읽 좋운 겻 걋따옳. 넓뮤 껙끝하콧 뿍신햅욘. 쥑얹푼뜰또 윌 잘학교 찐졀핫쉐오. 군테 좇씩은 벌 겝 엾넷오.\n",
      "✅ 복원된 출력: 좋은 선택이었어요. 여기가 가격 대비 제일 좋은 것 같아요. 너무 깨끗하고 푹신해요. 직원분들도 일 잘하고 친절하세요. 근데 조식은 별 게 없네요.\n",
      "\n"
     ]
    },
    {
     "name": "stderr",
     "output_type": "stream",
     "text": [
      "🔍 Predicting:  17%|█████████▊                                                | 18/106 [04:34<21:42, 14.80s/batch]"
     ]
    },
    {
     "name": "stdout",
     "output_type": "stream",
     "text": [
      "\n",
      "🔹 [Batch 18]\n",
      "\n",
      "📌 난독화된 입력: 쒼쭉길랏 키뵨적꿀룐 캐끝헷씁뉘타. 근뒈 뗍위블 앓랬초케 봅닐 청손는 얀 한 컸 깥은 위뮬짊들륏 있였씁닙댜. 떽깡 햐냐? 압촉 방틂을 단뉘면써 쩡쏘하눈 컬 봤는뛔, 않 학눈 견 야뉜 겄 깥운뒈 졺 뮈흡헷쿠요. 높뿐 쯩읾랑 붙같 좋얕쑵뉜댜. - 쉬쟝꺅치 겁럭깖 숩 잊엇 좋앝숲뉘댜. - 갸꺽됴 빛삽칭 얀았씁닒따. 척청션인 컫 걋씁뉘따. 씨청과 움췌쿡길 뵤윈뉩 끌레또 중씸깍 갇튼 눅큄일랄꺄~~ㅋㅋㅋ 싫창엣셔 크 튀귐곯목길랄깥, 옷징였쑨대 콜몫윌랄깔 꿀 쵸일폘 옜낡 삥쑤를 꼰넋옐셔 빤는뎨 맒윕뉘댜. 펄료 만은 께 들엌갖진 안쥐만 넋뮷 깔꿈한 맏위 윌퓨민 5쳔 언 팥뷩숯갉 잊씁닒닻. 얾루씬툴됴 좋야핥십떨랴교욕. 졍맑 맏잊엊씁닌닯. 섦뷩운 췌 쮜항위 암닐랴셔 젼 얀 갸눈떼, 억킨 똘 갚교 쉽풀 많끎 쩨 윕먀쎈 좋얏숩뉠댜. - 뭍뚠 윗 쑥손는 쭈짰됴 뻔햇골 롭빅됴 깔끎햇숩뉘타. 렘칟턴수 홍뗄릴꾸옹.\n",
      "✅ 복원된 출력: 신축이라 기본적으로 깨끗했습니다. 근데 테이블 아래쪽에 보니 청소는 안 한 것 같은 이물질들이 있었습니다. 설마 하나? 앞쪽 방들을 다니면서 청소하는 걸 봤는데, 안 하는 건 아닌 것 같은데 좀 머쓱했구요. 높은 층이라 뷰가 좋았습니다. - 시장까지 걸어갈 수 있어 좋았습니다. - 가격도 비싸지 않았습니다. 적정선인 것 같습니다. 시장과 음식점이 보이니 그래도 중심가 같은 느낌이랄까~~ᄏᄏᄏ 시장에서 그 꽈배기거리라던가, 오징어순대 골목이라던가 그 초입에 옛날 빙수를 코앞에서 파는데 맛있습니다. 별로 많은 게 들어가진 않지만 너무 깔끔한 맛의 이불이 5천 원 팥빙수가 있습니다. 어르신들도 좋아하시더라고요. 정말 맛있었습니다. 설 대목을 이용해서 그런지 더 저렴하게 이용할 수 있었던 것 같아요.\n",
      "\n"
     ]
    },
    {
     "name": "stderr",
     "output_type": "stream",
     "text": [
      "🔍 Predicting:  18%|██████████▍                                               | 19/106 [04:39<17:12, 11.87s/batch]"
     ]
    },
    {
     "name": "stdout",
     "output_type": "stream",
     "text": [
      "\n",
      "🔹 [Batch 19]\n",
      "\n",
      "📌 난독화된 입력: 펀햐궤 쉬였탁깖 악찜욺 맞잊케 며겻써오.\n",
      "✅ 복원된 출력: 편하게 쉬었다가 아침을 맛있게 먹었어요.\n",
      "\n"
     ]
    },
    {
     "name": "stderr",
     "output_type": "stream",
     "text": [
      "🔍 Predicting:  19%|██████████▉                                               | 20/106 [04:51<16:57, 11.84s/batch]"
     ]
    },
    {
     "name": "stdout",
     "output_type": "stream",
     "text": [
      "\n",
      "🔹 [Batch 20]\n",
      "\n",
      "📌 난독화된 입력: 젼불떨 콕 한펀 왑복쿄 씨뻐성 켑쪄핼놨뎐 교씬뗀, 역씨냘 염찌 척!\n",
      "✅ 복원된 출력: 전부터 꼭 한번 와보고 싶어서 저장해뒀던 곳인데, 역시나 엄지 척!\n",
      "\n"
     ]
    },
    {
     "name": "stderr",
     "output_type": "stream",
     "text": [
      "🔍 Predicting:  20%|███████████▍                                              | 21/106 [05:03<17:02, 12.03s/batch]"
     ]
    },
    {
     "name": "stdout",
     "output_type": "stream",
     "text": [
      "\n",
      "🔹 [Batch 21]\n",
      "\n",
      "📌 난독화된 입력: 묘뜬 먼예서 좋얏닸. 졉군썽 - 찌함철엔써 밟료 효텔위 읽엊저 있움. 견묽 - 뷕꼬척 쉰축잇교 곶곶웨 믿술뿌물 천씨헤 듀영 깰렬릿 갇은 늣킴. 륨 켠뒤썬 - 깖큼학골 퀘쩍깖. 뇹푼 쯩은 야뉘얼써 분눈 벌로 엾엇치많 빵 얀 춈멍잇 튀퉤윌릭 맒옛 뜬탸. 윈뗄리엌갸 캄각척윅교 얾뭬님틱토 좋았움. 움쉭 - 칭햐 음쉭젊은 얀 캅봤쮜만 죡각폰눈 뼝탸 읽쌓인 뜻. 단퓸묵롱 숯뗏위끓, 빳슷따룰 멱업퐈쑴. 깍걱잉 척땋휘 납특읽 까눈 슈춘위 맞쉬였댜(빛썅꾜 맡인셨딴눈 뜯). - 벋쁠얜 밞일추 헤삐악웍까 걋성뷔갼 꾕창힝 좋따교 늙켰슴. 굳썽뙨 멘누들읽 한납깠튀 셍갹포따 퀄륑틱까 위썬슴. (닮만 촐갹본예셔 천넉씩샤 걸줴함먼셔 헤삐야어 얘귀한닉꺄 찌건뷴뉘 뷔얜뷔 위용핫씨냘교 뮬여 죠굼 탕황술럴웠움. 긁련 아겨눈 쳐움 온 삵랴뮈 앎 뤽캄 엾짇 얀훈까? 햅퓌약얽룰 언딛 닺른 뎨셔 토 윗는 쭐 앓앝따. 구께 얀뉠람먼 턍연힙 뼈쁘랜 파익추를 맑한눈 견뎨 굼딕 왱 구렇궤 묽럴봤눈쥡 윅핵까 얀 캄). - 좃씩 죡갹포 퓌폐됴 만촉슥렇웠슴.\n",
      "✅ 복원된 출력: 모든 면에서 좋았다. 접근성 - 지하철에서 바로 호텔이 이어져 있음. 건물 - 비교적 신축이고 곳곳에 업무분을 전시해 두어 갤러리 같은 느낌. 룸 컨디션 - 깔끔하고 쾌적함. 높은 층은 아니어서 뷰는 별로 없었지만 방 안 조명이 디테일이 맘에 든다. 인테리어가 감각적이고 어메니티도 좋았음. 음식 - 지하 음식점은 안 가봤지만 처음보는 평타 이상인 듯. 단품으로 스테이크, 파스타를 먹어봤음. 가격이 적당히 나홀로 가는 수준의 맛이었다(비싸고 맛있었다는 듯). - 에프터눈 바이레도 해피아워가 가성비가 굉장히 좋다고 느꼈음. 구성된 메뉴들이 하나하나 생각보다 퀄리티가 있었음. (다만 초근접에서 저녁식사 결제하면서 해피아워 얘기하니까 직원분이 디너 이용 안내해 주심). 잘 묵었습니다. 앞으로 부산에 가면 더 이상 호텔 안 가보려 함.\n",
      "\n"
     ]
    },
    {
     "name": "stderr",
     "output_type": "stream",
     "text": [
      "🔍 Predicting:  21%|████████████                                              | 22/106 [05:12<15:34, 11.13s/batch]"
     ]
    },
    {
     "name": "stdout",
     "output_type": "stream",
     "text": [
      "\n",
      "🔹 [Batch 22]\n",
      "\n",
      "📌 난독화된 입력: 살쟝닙밉 밗퀼뀌 젼붓텨... 22넌윈갸 23년쀼떫 섰눈뗀 번함엽쉬 있옹 중윔. 1년윈갸 2넌 샤윗에 캬켜귀 옭랖셔 쫌 붙땀슷렵귄(?) 항찧만 쩡컬뤼 찐차 좋꼬 샴짱닒 빻뀌교 낯션냠 찐철한 건 였젼함. 원쭈 슉쏘 엎키 깡출함------------------------------------------- 24.6.30 살쟝닒잊 빡뀝씨코 까격키 키학급슈쩌끄롤 옭름... 엷킥**랸눈 엡웨썬눈 24년웨 옮쁜했따꾜 섰쳐 잊쥐많 샷실 22년넵 치였친 코쉼... 삼챵닒은 열쩐휘 친젊핫씨찜만 쩡걸룬 옙쩌눼 뷔헤 종굼 턺었쥠. 꽈겨웨 뷔헤 각격은 찐차 많위 옭랒쑨낫 언쭈 슉쇼 충 갖쟝 캐꿎했셔 잎용 충윔(옮략깐 갹격켄는 잇욱카 잊음)\n",
      "✅ 복원된 출력: 사장님이 바뀌기 전부터... 22년인가 23년부터 썼는데 변함없이 이용 중임. 1년인가 2년 사이에 가격이 바뀌어서 좀 부담스럽긴(?) 하지만 청결이 진짜 좋고 사장님 바뀌고 나몰라라 친절한 건 여전함. 원주 숙소 여기 강추함--------------------- 24.6.30 사장님이 바뀌시고 가격이 기계적으로 오름... 여기**라는 앱에서는 24년에 오픈했다고 써져 있지만 사실 22년에 지어진 곳임... 사장님은 여전히 친절하시지만 청결은 예전에 비해 조금 떨어짐. 과기에 비해 가격은 진짜 많이 올랐으나 원주 숙소 중 가장 깨끗해서 이용 중임(올라가는 가격에는 이유가 있음)\n",
      "\n"
     ]
    },
    {
     "name": "stderr",
     "output_type": "stream",
     "text": [
      "🔍 Predicting:  22%|████████████▌                                             | 23/106 [05:30<18:00, 13.01s/batch]"
     ]
    },
    {
     "name": "stdout",
     "output_type": "stream",
     "text": [
      "\n",
      "🔹 [Batch 23]\n",
      "\n",
      "📌 난독화된 입력: 쬠교위 쉿썲 윈취 헬승쟝윕웨욕. 졈창니밌 넣뭏 찐철핫쎄옳!!\n",
      "✅ 복원된 출력: 최고의 시설 위치 헬스장이에요. 사장님이 너무 친절하세요!!\n",
      "\n"
     ]
    },
    {
     "name": "stderr",
     "output_type": "stream",
     "text": [
      "🔍 Predicting:  23%|█████████████▏                                            | 24/106 [05:40<16:39, 12.19s/batch]"
     ]
    },
    {
     "name": "stdout",
     "output_type": "stream",
     "text": [
      "\n",
      "🔹 [Batch 24]\n",
      "\n",
      "📌 난독화된 입력: 윔췻톤 좋코 확쟝쉴또 캑쿳한뒈... 넴섹카 냐욤. 두려옻쟎맛짜 따튿한 핫슉꾸 냄쌩? + 낱쁘딸롄 넴쌔? 낡욜... 읽 졈많 페먼 좋앗엿욥...\n",
      "✅ 복원된 출력: 위치도 좋고 화장실도 깨끗한데... 냄새가 나요. 들어오자마자 따뜻한 하수구 냄새? + 나프탈렌 냄새? 나요... 이 점만 빼면 좋았어요...\n",
      "\n"
     ]
    },
    {
     "name": "stderr",
     "output_type": "stream",
     "text": [
      "🔍 Predicting:  24%|█████████████▋                                            | 25/106 [05:48<15:01, 11.13s/batch]"
     ]
    },
    {
     "name": "stdout",
     "output_type": "stream",
     "text": [
      "\n",
      "🔹 [Batch 25]\n",
      "\n",
      "📌 난독화된 입력: 뼝뻠한 묘텐립찜만 삵창뉨껫써 친쩔햐섯셔 뮤친쨩 많죡했숩닒댜~\n",
      "✅ 복원된 출력: 평범한 모텔이지만 사장님께서 친절하셔서 무지무지 만족했습니다~\n",
      "\n"
     ]
    },
    {
     "name": "stderr",
     "output_type": "stream",
     "text": [
      "🔍 Predicting:  25%|██████████████▏                                           | 26/106 [06:01<15:21, 11.52s/batch]"
     ]
    },
    {
     "name": "stdout",
     "output_type": "stream",
     "text": [
      "\n",
      "🔹 [Batch 26]\n",
      "\n",
      "📌 난독화된 입력: 않뉘, 줴탤록 퇸는 궤 엾넥오. 꿉햐께 켬쀼뗘 슭 윌윅 있엿섦 켯떤뉘 않 퇘. 뻔퀴 뮬 않네러갖 확쨩실 않 되. 셈면떼 뮬 밟둘런닙 꽂쩡 않 된. TV 낭욕꼬 웨얹껀 톨랴갹쿄 찜태 있눈 껀 절럼한 갸꺽엔 윗욱갸 위썼눼오.\n",
      "✅ 복원된 출력: 아니, 제대로 되는 게 없네요. 급하게 컴퓨터 쓸 일이 있어서 켰더니 안 돼. 변기 물 내려가다가 화장실 안 돼. 세면대 물 올리니 고정 안 돼. TV 나오고 에어컨 돌아가고 침대 있는 건 저렴한 가격에 이유가 있었네요.\n",
      "\n"
     ]
    },
    {
     "name": "stderr",
     "output_type": "stream",
     "text": [
      "🔍 Predicting:  25%|██████████████▊                                           | 27/106 [06:14<15:38, 11.88s/batch]"
     ]
    },
    {
     "name": "stdout",
     "output_type": "stream",
     "text": [
      "\n",
      "🔹 [Batch 27]\n",
      "\n",
      "📌 난독화된 입력: 갚푠 혹텔 츙엘 엌때끕읏료 싯셜윙 좋앗었옻! 낢식갔 빚칼 많휘 왈설 오뜨 퓰를 졔탬롭 줄낏쮜 못한 겯순 았쉽찧만 청먈 잚 짙냉왓숩님탈 ㅎㅎ\n",
      "✅ 복원된 출력: 가본 호텔 중에 역대급으로 시설이 좋았어요! 날씨가 비가 많이 와서 요트 뷰를 제대로 즐기지 못한 것은 아쉽지만 정말 잘 지냈습니다 ᄒᄒ\n",
      "\n"
     ]
    },
    {
     "name": "stderr",
     "output_type": "stream",
     "text": [
      "🔍 Predicting:  26%|███████████████▎                                          | 28/106 [06:30<17:08, 13.18s/batch]"
     ]
    },
    {
     "name": "stdout",
     "output_type": "stream",
     "text": [
      "\n",
      "🔹 [Batch 28]\n",
      "\n",
      "📌 난독화된 입력: 토쉼짐 췌코윙 쀼왁 껑관읊 뵤욺한 홉텔. 칵격괍 몬뜬 몄넸써 많죡\n",
      "✅ 복원된 출력: 도심지 최고의 뷰와 경관을 보유한 호텔. 가격과 모든 면에서 만족 \n",
      "\n"
     ]
    },
    {
     "name": "stderr",
     "output_type": "stream",
     "text": [
      "🔍 Predicting:  27%|███████████████▊                                          | 29/106 [06:44<17:11, 13.40s/batch]"
     ]
    },
    {
     "name": "stdout",
     "output_type": "stream",
     "text": [
      "\n",
      "🔹 [Batch 29]\n",
      "\n",
      "📌 난독화된 입력: 찐졀햐곳 앗땀학코, 깖꿈했써 좋암욧. 옥쌓 쀼됴 좋곧욘. 걔윈적끌론는 1쯩엣셔 욕쌓읔룟 갼눈 걔닮뉘 샬짝 휨듦렸녜오 ㅎ\n",
      "✅ 복원된 출력: 친절하고 아담하고, 깔끔해서 좋아요. 옥상 뷰도 좋고요. 개인적으로는 1층에서 옥상으로 가는 계단이 살짝 힘들었네요 ᄒ\n",
      "\n"
     ]
    },
    {
     "name": "stderr",
     "output_type": "stream",
     "text": [
      "🔍 Predicting:  28%|████████████████▍                                         | 30/106 [06:51<14:39, 11.57s/batch]"
     ]
    },
    {
     "name": "stdout",
     "output_type": "stream",
     "text": [
      "\n",
      "🔹 [Batch 30]\n",
      "\n",
      "📌 난독화된 입력: 싸창닒위 췬쩔핫씨코 팡돗 칼끎핼써 좋앗옇욤! 위칟톰 받닯랗 갹꺄어셔 좋았꿍욥~ 슉쏘 압예 딸슈킷됴 잊써섬 묽놓뤼 휴 묾귀 젝껴학깆톤 좋앝숲뉘댜! 셩슝뀌에 묵였는뎨 윈큰 슉쏘뵤댜 졀럼학깆됴 했곯, 싣셜 밋 찐졀토돗 좋았셔 츄쳔합닙따 ^^ 레익뚜 첵끄앝웃토 쭉간 2많 원만 네먼 퇴연써 좋떫락규오!\n",
      "✅ 복원된 출력: 사장님이 친절하시고 방도 깔끔해서 좋았어요! 위치도 바다랑 가까워서 좋았구요~ 숙소 앞에 자판기도 있어서 물놀이 후 물기 제거하기도 좋았습니다! 성수기에 묵었는데 인근 숙소보다 저렴하기도 했고, 시설 및 친절도도 좋아서 추천합니다 ^^ 레이트 체크아웃도 추가 2만 원만 내면 되어서 좋더라구요!\n",
      "\n"
     ]
    },
    {
     "name": "stderr",
     "output_type": "stream",
     "text": [
      "🔍 Predicting:  29%|████████████████▉                                         | 31/106 [07:07<16:17, 13.03s/batch]"
     ]
    },
    {
     "name": "stdout",
     "output_type": "stream",
     "text": [
      "\n",
      "🔹 [Batch 31]\n",
      "\n",
      "📌 난독화된 입력: 헹삳 탱뮨눼 깥닮 왓눈테 억사왓 천통위 눅켜찜. 역씨\n",
      "✅ 복원된 출력: 행사 때문에 갔다 왔는데 역사와 전통이 느껴짐. 역시\n",
      "\n"
     ]
    },
    {
     "name": "stderr",
     "output_type": "stream",
     "text": [
      "🔍 Predicting:  30%|█████████████████▌                                        | 32/106 [07:20<15:44, 12.77s/batch]"
     ]
    },
    {
     "name": "stdout",
     "output_type": "stream",
     "text": [
      "\n",
      "🔹 [Batch 32]\n",
      "\n",
      "📌 난독화된 입력: 윅칟토 좋숩닙땃. 제팡뮨윗싸 있엮욘.\n",
      "✅ 복원된 출력: 위치도 좋습니다. 재방문의사 있어요.\n",
      "\n"
     ]
    },
    {
     "name": "stderr",
     "output_type": "stream",
     "text": [
      "🔍 Predicting:  31%|██████████████████                                        | 33/106 [07:25<12:39, 10.41s/batch]"
     ]
    },
    {
     "name": "stdout",
     "output_type": "stream",
     "text": [
      "\n",
      "🔹 [Batch 33]\n",
      "\n",
      "📌 난독화된 입력: 윔찍갉 녀묶 좋꾜 찍언푼듦린 찐졀헤욕. 빵은 작쥠많 캐끗햐굘 쒸튀부인테토 삵짝 팥닥깠 포엮온. 닯많 쫀쉭은 멱찌 만쉐옻. 완젼 쾅윔.\n",
      "✅ 복원된 출력: 위치가 너무 좋고 직원분들이 친절해요. 방은 작지만 깨끗하고 시티뷰인데도 살짝 바다가 보여요. 다만 조식은 먹지 마세요. 완전 꽝임.\n",
      "\n"
     ]
    },
    {
     "name": "stderr",
     "output_type": "stream",
     "text": [
      "🔍 Predicting:  32%|██████████████████▌                                       | 34/106 [07:40<14:22, 11.99s/batch]"
     ]
    },
    {
     "name": "stdout",
     "output_type": "stream",
     "text": [
      "\n",
      "🔹 [Batch 34]\n",
      "\n",
      "📌 난독화된 입력: 쀼카 청먈 좋양욤. 쟘옻됴 빛취툇여 있꾜, 쌩칵뾰댜 꺌큼합닝댜! 닮많 묾울 뗬 탈략곡 함먼 쭉꺄 욧굶입 밟섕한넹용! 짬꾜핫쒜욤.\n",
      "✅ 복원된 출력: 뷰가 정말 좋아요. 잠옷도 비치되어 있고, 생각보다 깔끔합니다! 다만 물을 더 달라고 하면 추가 요금이 발생하네요! 참고하세요.\n",
      "\n"
     ]
    },
    {
     "name": "stderr",
     "output_type": "stream",
     "text": [
      "🔍 Predicting:  33%|███████████████████▏                                      | 35/106 [07:49<12:58, 10.96s/batch]"
     ]
    },
    {
     "name": "stdout",
     "output_type": "stream",
     "text": [
      "\n",
      "🔹 [Batch 35]\n",
      "\n",
      "📌 난독화된 입력: 방 컨뒤선닐 씸꺅한 쑹쭌닉꾜 숭옇창있 웨 우명한취 묠룩계써옹... 뷰땠싣셜룬 촉굶많한뒈 슉팍객윈 념뮤 만않써 엉띨 깖튼 뮈얹텨침.\n",
      "✅ 복원된 출력: 방 컨디션이 심각한 수준이고 수영장이 왜 유명한지 모르겠어요... 부대시설은 조금만한데 숙박객이 너무 많아서 어딜 가든 미어터짐.\n",
      "\n"
     ]
    },
    {
     "name": "stderr",
     "output_type": "stream",
     "text": [
      "🔍 Predicting:  34%|███████████████████▋                                      | 36/106 [08:00<12:47, 10.96s/batch]"
     ]
    },
    {
     "name": "stdout",
     "output_type": "stream",
     "text": [
      "\n",
      "🔹 [Batch 36]\n",
      "\n",
      "📌 난독화된 입력: 윗쮜왑 각걱엣 많죡학교 룸 켠팃션툐 좋쑵닝닫. 청쵸효 부돎 좋앗굔 셸푸 첵꾸윈, 얇윳울료 쥔헹똑 쉰쇽학쿄 뻔림햐며 캑끝햇오~ 중앙쉭장또 갹꺄웍 톱뵤 임똥헤써 탄너욤교 쥬찼짱읽 굶팡 많찻잊뀐 햐쥠많 효뗄 앞 촤욹로 뗄헝 쭈찬창욺 윈옹핥 쑤 잊여섭 편합닙땅. 갈셩피갸 많쪽쓰려어 탸움엠토 잉옹할 겆 깠야오~~ 팜에 쩡쵸홅윗 얍겅또 얩펴오~\n",
      "✅ 복원된 출력: 위치와 가격에 만족하고 룸 컨디션도 좋습니다. 청초호 뷰도 좋았고 셀프 체크인, 앞으로 진행도 신속하고 편리하며 깨끗해요~ 중앙시장도 가까워 도보 이동해서 다녀오고 주차장이 금방 만차이긴 하지만 호텔 앞 자유로 대형 주차장을 이용할 수 있어서 편합니다. 가성비가 만족스러워 다음에도 이용할 것 같아요~~ 밤에 청초호의 야경도 예뻐요~\n",
      "\n"
     ]
    },
    {
     "name": "stderr",
     "output_type": "stream",
     "text": [
      "🔍 Predicting:  35%|████████████████████▏                                     | 37/106 [08:11<12:34, 10.94s/batch]"
     ]
    },
    {
     "name": "stdout",
     "output_type": "stream",
     "text": [
      "\n",
      "🔹 [Batch 37]\n",
      "\n",
      "📌 난독화된 입력: 완전 죠훈뗏오. 웨 벌져밉 쩌군칡 일욹를 몫루겟눼옻. 깩실토 캐꿎햐교 찐젊학교, 활짱쉴똔 림모델링된 께끗한 홈뗄인떼 겨귀웨 쮜샬토 뙨니 터 존하오.\n",
      "✅ 복원된 출력: 완전 좋은데요. 왜 별점이 저런지 이유를 모르겠네요. 객실도 깨끗하고 친절하고, 화장실도 리모델링된 깨끗한 호텔인데 거기에 취사도 되니 더 좋아요.\n",
      "\n"
     ]
    },
    {
     "name": "stderr",
     "output_type": "stream",
     "text": [
      "🔍 Predicting:  36%|████████████████████▊                                     | 38/106 [08:33<16:09, 14.26s/batch]"
     ]
    },
    {
     "name": "stdout",
     "output_type": "stream",
     "text": [
      "\n",
      "🔹 [Batch 38]\n",
      "\n",
      "📌 난독화된 입력: 욧픈 씩귀웨 삡헤 룸 켠딪설닐 쌍땅힌 좋취 앉꼲 쩡쑈 샹때됴 뿔랑합뉨단. 뭇얻뵤댜 칙퀀툴위 뷸췬젊학꼬 셥피쓰 쑤쭌위 엉먕잎닙타.\n",
      "✅ 복원된 출력: 오픈 시기에 비해 룸 컨디션이 상당히 좋지 않고 청소 상태도 불량합니다. 무엇보다 직원들이 불친절하고 서비스 수준이 엉망입니다.\n",
      "\n"
     ]
    },
    {
     "name": "stderr",
     "output_type": "stream",
     "text": [
      "🔍 Predicting:  37%|█████████████████████▎                                    | 39/106 [08:39<13:26, 12.04s/batch]"
     ]
    },
    {
     "name": "stdout",
     "output_type": "stream",
     "text": [
      "\n",
      "🔹 [Batch 39]\n",
      "\n",
      "📌 난독화된 입력: 챵 빪크료 햐쩐 샨첵긺위 뽀인눈 부 츄쳔! 암췸 촛씩군 건위 짚뱝 갗탸욜. 환려한 음씩운 야뉘짊많, 넹통씩뿜 한냐 엾임 땅틋항교 청셩울 트린 쫏쉬긷엇여오.\n",
      "✅ 복원된 출력: 창 밖으로 하천 산책길이 보이는 뷰 추천! 아침 조식은 거의 집밥 같아요. 화려한 음식은 아니지만, 냉동식품 하나 없이 따뜻하고 정성을 들인 조식이었어요.\n",
      "\n"
     ]
    },
    {
     "name": "stderr",
     "output_type": "stream",
     "text": [
      "🔍 Predicting:  38%|█████████████████████▉                                    | 40/106 [08:50<12:41, 11.54s/batch]"
     ]
    },
    {
     "name": "stdout",
     "output_type": "stream",
     "text": [
      "\n",
      "🔹 [Batch 40]\n",
      "\n",
      "📌 난독화된 입력: 팖쿠 핫앝뜨  췌곪얘욕  얩쁜 샤취뉘 만앝는뒈 못 찾뀄넹욘\n",
      "✅ 복원된 출력: 파크 하얏트  최고예요  예쁜 사진이 많았는데 못 찾았네요\n",
      "\n"
     ]
    },
    {
     "name": "stderr",
     "output_type": "stream",
     "text": [
      "🔍 Predicting:  39%|██████████████████████▍                                   | 41/106 [09:03<13:08, 12.13s/batch]"
     ]
    },
    {
     "name": "stdout",
     "output_type": "stream",
     "text": [
      "\n",
      "🔹 [Batch 41]\n",
      "\n",
      "📌 난독화된 입력: 쥬찻쟝위 친츌립록카 녀뮤 헙쑈했섰 붊뻔했턴 겨 웩웩는 걋셩피 좋운 효텔뤼였타.\n",
      "✅ 복원된 출력: 주차장이 진출입로가 너무 협소해서 불편했던 거 외에는 가성비 좋은 호텔이었다.\n",
      "\n"
     ]
    },
    {
     "name": "stderr",
     "output_type": "stream",
     "text": [
      "🔍 Predicting:  40%|██████████████████████▉                                   | 42/106 [09:10<11:05, 10.40s/batch]"
     ]
    },
    {
     "name": "stdout",
     "output_type": "stream",
     "text": [
      "\n",
      "🔹 [Batch 42]\n",
      "\n",
      "📌 난독화된 입력: 콩싸갸 끗냘쥠 얀훈 쌍텔랴 객씰 쏠음잉 넒뮤 켰엿오. 욕샹 꽁샤합는 켯 갓땄눈뛔 엽 껀뮬 꽁샤랴교 핫섰뀨용. 않침 8싫웨 쏘움윙 씸헷써 뿔론튿예 먈쑴투뤼뉩 낟줴 웨출 않 한낭꼬 뮬려봇쉭떤뒝, 공샤 중윗씨면 숀닒묾 얀 받웃셨썹아 한는 컫 깥않옵ㅜㅜ\n",
      "✅ 복원된 출력: 공사가 끝나지 않은 상태라 객실 소음이 너무 커요. 옥상 공사하는 것 같았는데 옆 건물 공사라고 하셨구요. 아침 8시에 소음이 심해서 프론트에 말씀드리니 날짜 외출 안 하냐고 물어보시던데, 공사 중이시면 손님을 안 받아주셔야 하는 것 같아요ᅮᅮ\n",
      "\n"
     ]
    },
    {
     "name": "stderr",
     "output_type": "stream",
     "text": [
      "🔍 Predicting:  41%|███████████████████████▌                                  | 43/106 [09:19<10:33, 10.06s/batch]"
     ]
    },
    {
     "name": "stdout",
     "output_type": "stream",
     "text": [
      "\n",
      "🔹 [Batch 43]\n",
      "\n",
      "📌 난독화된 입력: 캑쿳하곰 캭격위 졀렴햐머 닫시 팡문향곱 싶운 콧쉽뉨딱.\n",
      "✅ 복원된 출력: 깨끗하고 가격이 저렴하며 다시 방문하고 싶은 곳입니다.\n",
      "\n"
     ]
    },
    {
     "name": "stderr",
     "output_type": "stream",
     "text": [
      "🔍 Predicting:  42%|████████████████████████                                  | 44/106 [09:35<12:21, 11.96s/batch]"
     ]
    },
    {
     "name": "stdout",
     "output_type": "stream",
     "text": [
      "\n",
      "🔹 [Batch 44]\n",
      "\n",
      "📌 난독화된 입력: 쬐악윕니댜. 잘는뒈 확젝켱뵤퀴칼 욹럿셔 쟘토 못 짝코, 옮짝똥있랸는뎨 챠쉐한 썰멍또 엽셧섬 붕란녜 털곱 있씁닝타. 닺쉬 잦꼬 씹취많 불않헷성 냑카력는뗀 환불또 않 해준터략교올. 붊췬졀엔 팡또 펼롤콕... 1첨됴 않캅숩뉘답.\n",
      "✅ 복원된 출력: 최악입니다. 자는데 화재경보기가 울려서 잠도 못 자고, 오작동이라는데 자세한 설명도 없어서 불안에 떨고 있습니다. 다시 자고 싶지만 불안해서 나가려는데 환불도 안 해주더라고요. 불친절엔 방도 별로고... 1점도 아깝습니다.\n",
      "\n"
     ]
    },
    {
     "name": "stderr",
     "output_type": "stream",
     "text": [
      "🔍 Predicting:  42%|████████████████████████▌                                 | 45/106 [09:58<15:24, 15.16s/batch]"
     ]
    },
    {
     "name": "stdout",
     "output_type": "stream",
     "text": [
      "\n",
      "🔹 [Batch 45]\n",
      "\n",
      "📌 난독화된 입력: 틉럭갖따 낳옳는 긺읾 휨뜰취만, 넒뮤 얘쁠곶 쫓옹햐머 벎툐 만꾜 휠륑학꼭 왓숩뉘당.\n",
      "✅ 복원된 출력: 들어갔다 나오는 길이 힘들지만, 너무 예쁘고 조용하며 별도 많고 힐링하고 왔습니다.\n",
      "\n"
     ]
    },
    {
     "name": "stderr",
     "output_type": "stream",
     "text": [
      "🔍 Predicting:  43%|█████████████████████████▏                                | 46/106 [10:10<14:05, 14.09s/batch]"
     ]
    },
    {
     "name": "stdout",
     "output_type": "stream",
     "text": [
      "\n",
      "🔹 [Batch 46]\n",
      "\n",
      "📌 난독화된 입력: 쒜켠학윳술웨 욘 껏 깥운 누큄, 펀함꽃 좋넵용^^\n",
      "✅ 복원된 출력: 신선하우스에 온 것 같은 느낌, 편하고 좋네요^^\n",
      "\n"
     ]
    },
    {
     "name": "stderr",
     "output_type": "stream",
     "text": [
      "🔍 Predicting:  44%|█████████████████████████▋                                | 47/106 [10:18<12:04, 12.28s/batch]"
     ]
    },
    {
     "name": "stdout",
     "output_type": "stream",
     "text": [
      "\n",
      "🔹 [Batch 47]\n",
      "\n",
      "📌 난독화된 입력: 처독 립뷸를 폭코 팡뮨했땁닛탸. 췬졀핫씬 살짱뉨콰 캐끗한 깩싫, 옮선푸, 쓰따윌력꺄찌 쿱삐뙨 몇친 빵욹 축쉰 싸짱뉨~ 깜싸 깜쌌둘러올. 깐많눼 댜녕욘 캉룽 어헹위 좋흖 홀뗄 떡분웨 킵뷴윔 한충 없쿠례위뚜... 함케한 낢편됴 댐많죠켓눼욥^^\n",
      "✅ 복원된 출력: 저도 리뷰를 보고 방문했답니다. 친절하신 사장님과 깨끗한 객실, 오션뷰, 스타일러까지 구비된 멋진 방을 주신 사장님~ 감사 감사드려요. 간만에 다녀온 강릉 여행이 좋은 호텔 덕분에 기분이 한층 업그레이드... 함께한 남편도 대만족했네요^^\n",
      "\n"
     ]
    },
    {
     "name": "stderr",
     "output_type": "stream",
     "text": [
      "🔍 Predicting:  45%|██████████████████████████▎                               | 48/106 [10:23<09:53, 10.23s/batch]"
     ]
    },
    {
     "name": "stdout",
     "output_type": "stream",
     "text": [
      "\n",
      "🔹 [Batch 48]\n",
      "\n",
      "📌 난독화된 입력: 썹빛수눈 췬절햐씨꼬, 씨셜운 졺 요래뙤얻씁뉘닳. 처눈 많촉깻눈떼, 민캄한 분눈 영떪찧 몲륵켓얻욤.\n",
      "✅ 복원된 출력: 서비스는 친절하시고, 시설은 좀 오래되었습니다. 저는 만족했는데, 민감한 분은 어떨지 모르겠어요.\n",
      "\n"
     ]
    },
    {
     "name": "stderr",
     "output_type": "stream",
     "text": [
      "🔍 Predicting:  46%|██████████████████████████▊                               | 49/106 [10:34<10:00, 10.53s/batch]"
     ]
    },
    {
     "name": "stdout",
     "output_type": "stream",
     "text": [
      "\n",
      "🔹 [Batch 49]\n",
      "\n",
      "📌 난독화된 입력: 말묘 토한 뿌갸 및쪘코, 섦빗슥깖 좋흔며 씰낸 슈엉쟝위 옙뿌케 찰 돼여잇눈뎨, 갸쪽 딴뉩롱 많휘 낼력왁섦 얘키틀뤼 많단는 젊문 얘얘.\n",
      "✅ 복원된 출력: 말모 또한 뷰가 미쳤고, 서비스가 좋으며 실내 수영장이 예쁘게 잘 되어있는데, 가족 단위로 많이 내려와서 애기들이 많다는 점은 예뻐.\n",
      "\n"
     ]
    },
    {
     "name": "stderr",
     "output_type": "stream",
     "text": [
      "🔍 Predicting:  47%|███████████████████████████▎                              | 50/106 [10:45<09:46, 10.46s/batch]"
     ]
    },
    {
     "name": "stdout",
     "output_type": "stream",
     "text": [
      "\n",
      "🔹 [Batch 50]\n",
      "\n",
      "📌 난독화된 입력: 옜쉭쟝 단귀 앓파 할 테 춈몇눼 똥썽명토 앉 한 쌍테옛셔 낳한떼 셍깍끼 있나 옆냠 쌩깍퀼랐눈 결 촘 학교 삶랄랴 위럼먼써 때놓꼬 콥쭌 쟝키 앍팎섕 잇찌 묫햐겟쑴. 없뮤 쩝녜 설멍을 잚 헤추는 껏독 야뉨. 10뿐 많에 데츙 똥션만 설명헤쥰 썅템옛썰 엎묻 뜨력간눈뒈 쫀쿰많 씰슈핵토 숀닒운 옹써헤쥬는뗐 짱귀 앎밗갸 쏜뉨 야폐써 탄퀴 얄파한퉤 숄링찔름면셔 갚췰햐는 낌모한 꽃. 금림곬 친한 짱깃 앎빠듦킬뤼 딴키 얄뺘 뒷닮홧. 펼 잚못됴 않 했눈뎨 쿤냥 당룬 앍뱌쌩 욕하뎌라. 엿쪄땋갑 엇틀럿눈테 짬... 굿 샬람일 뿔쌓헷움. 섕꺅깔슐록 또 환냔넴. 효텔 창긺 얄뱌랄셔 챰 쪼후쉭겠엇오. 었쩨의 앓밧카 온늙의 쏜뉘밀 될 숯 윗탄는 껄 잇찔 맛쉭코 펑쌩 앎밗냐 함먼셕 삳쒸길.\n",
      "✅ 복원된 출력: 예식장 대기 알바 할 때 초반에 동성명도 안 한 상태에서 나는데 생각이 있나 없나 생각한다는 걸 좀 하고 가라 이러면서 대놓고 굳이 장기 알바생 있지 못하겠음. 업무 전에 설명을 잘 해주는 것도 아님. 10분 만에 대충 동선만 설명해준 상태에서 아무 들어갔는데 조금만 실수해도 손님은 용서해주는데 장기 알바가 손님 앞에서 장기 알바한테 소리지르면서 갑질하는 기분한 곳. 그리고 친한 장기 알바들이 장기 알바 뒷담화. 별 잘못도 안 했는데 그냥 다른 알바생 욕하더라. 여자친구가 어렸는데 참... 그 사람이 불쾌했음. 생각할수록 또 화나네. 호텔 장기 알바라서 참 좋으시겠어요. 어제의 알바가 오늘의 손님이 될 수 있다는 걸 잊지 마시고 평생 알바나 하면서 사시길.\n",
      "\n"
     ]
    },
    {
     "name": "stderr",
     "output_type": "stream",
     "text": [
      "🔍 Predicting:  48%|███████████████████████████▉                              | 51/106 [10:50<08:15,  9.00s/batch]"
     ]
    },
    {
     "name": "stdout",
     "output_type": "stream",
     "text": [
      "\n",
      "🔹 [Batch 51]\n",
      "\n",
      "📌 난독화된 입력: 넜묻낢 많쪽슬럽운 숙숍엿쑵니댜. 쉿셥림먹 쩡결 샹템몇 녈문 칼큼핫코 좋았썸오. 뷴눈 맑할 겉됴 업꼰오. 쟈쥬 섕칵낫셔 쉬칸만 잇음면 곗쇽 윅용핥코 싶은 쑥쇼윕님닦.\n",
      "✅ 복원된 출력: 너무나 만족스러운 숙소였습니다. 시설이며 청결 상태며 너무 깔끔하고 좋았어요. 뷰는 말할 것도 없고요. 자주 생각나서 시간만 있으면 계속 이용하고 싶은 숙소입니다.\n",
      "\n"
     ]
    },
    {
     "name": "stderr",
     "output_type": "stream",
     "text": [
      "🔍 Predicting:  49%|████████████████████████████▍                             | 52/106 [11:02<08:54,  9.90s/batch]"
     ]
    },
    {
     "name": "stdout",
     "output_type": "stream",
     "text": [
      "\n",
      "🔹 [Batch 52]\n",
      "\n",
      "📌 난독화된 입력: 얄렙 휴귀엡또 갖은 싫숫갸 있눈퉤, 쌩윌 닿읾 팡문뉘란 쳔확료 오쩡읊 녑훈뉘 멤묘룰 냠끽곗탁곤 헷췸많 쳬쿠윈할 태 뽀뉘 젼혈 묘룸 ^_ㅠ 위 풉뿐 깨션입 필룟한 둣! 합침만 쩐쩨적읊롬 많죡캄, 럭설릴 례익쿨뷸\n",
      "✅ 복원된 출력: 아래 후기에도 같은 실수가 있는데, 생일 당일 방문이라 전화로 요청을 하니 메모를 남기겠다고 했지만 체크인할 때 보니 전부 모름 ^_ᅲ 이 부분 개선이 필요한 듯! 하지만 전체적으로 만족함, 럭셔리 레이크뷰\n",
      "\n"
     ]
    },
    {
     "name": "stderr",
     "output_type": "stream",
     "text": [
      "🔍 Predicting:  50%|█████████████████████████████                             | 53/106 [11:24<11:53, 13.46s/batch]"
     ]
    },
    {
     "name": "stdout",
     "output_type": "stream",
     "text": [
      "\n",
      "🔹 [Batch 53]\n",
      "\n",
      "📌 난독화된 입력: 싣섦 우찌 콴릿갑 메욺 욱쑤합뉘타. 쌓짱뉨톡 췬쩔하교 젊운 삭짱 툭우읜 맨널왑 웁앗함, 얾걱하밀 젼닮뒈눈 멎쥔 뷴들립뉜탸. 뚫럽뵨 켤콰, 퀴츠 죤 촉낌 얘들위 놂킵웨 짬 좋야 뽀었꼬 뿐뉜깊똘 또랸돐란 윙픕뉘타. 뇰퀴쯔 팎쇘셕운 츄챠짱콰 념뭏 각깎운 계 얏쉽코, 숲쇽 떼쿡 쫀운 짊 냠릅는 곁위 슉곡슭려울냐 죠옹햐교 얀눅캅뉘댜. 제방뮨위싸 있씁닉탑.\n",
      "✅ 복원된 출력: 시설 유지 관리가 매우 우수합니다. 사장님도 친절하고 젊은 사장 특유의 매너와 여유로움, 가격이 전달되는 멋진 분들입니다. 찾아본 결과, 키즈 존 쪽이 애들이 놀기에 참 좋아 보였고 분위기도 도도란 이쁩니다. 놀이터 밖에서는 주차장과 너무 가까운 게 아쉽고, 숲속 데크 쪽은 짐 나르는 것이 수고스러우나 조용하고 아늑합니다. 재방문의사 있습니다.\n",
      "\n"
     ]
    },
    {
     "name": "stderr",
     "output_type": "stream",
     "text": [
      "🔍 Predicting:  51%|█████████████████████████████▌                            | 54/106 [11:35<11:05, 12.80s/batch]"
     ]
    },
    {
     "name": "stdout",
     "output_type": "stream",
     "text": [
      "\n",
      "🔹 [Batch 54]\n",
      "\n",
      "📌 난독화된 입력: 해윤탰웨셔 한 탈 쌀귀 셩꽁\n",
      "✅ 복원된 출력: 해운대에서 한 달 살기 성공 \n",
      "\n"
     ]
    },
    {
     "name": "stderr",
     "output_type": "stream",
     "text": [
      "🔍 Predicting:  52%|██████████████████████████████                            | 55/106 [11:46<10:23, 12.22s/batch]"
     ]
    },
    {
     "name": "stdout",
     "output_type": "stream",
     "text": [
      "\n",
      "🔹 [Batch 55]\n",
      "\n",
      "📌 난독화된 입력: 통셍괆 일황동, 쾅확뮨 촉읊롭 어헹 갖눈뎀, 욹왁ㅡ 퓸까 챵난닝 안뉩엡용! 찜댄눈 텁풀 2게 붓여 잇얻눈테 넓고 찜궂돗 꿰처캣엇오~ 쭙찧 않울캬 꺽청했눈퉤, 탁툿햐케 쟐 짰씁닙댜. 위황동 퍄롤 윕귤랄 뀨컹돝 뻔힉 잚 햇넹용. 쳰끓윈 2씨, 첵꾸앍웃 12씰랍 뇰랐숩닐따.ㅎㅎ 녑뭅 여우롭계 치넬담 갚닢댜~~ 쥬짧 공갼위 헙쇼한 단쩜 뻬먼 쬐교윕닌타~!\n",
      "✅ 복원된 출력: 동생과 이동, 광화문 쪽으로 여행 갔는데, 외부ᅳ 뷰가 장난 아니에요! 침대는 더블 2개 붙어 있었는데 넓고 침구도 쾌적했어요~ 춥지 않을까 걱정했는데, 따뜻하게 잘 잤습니다. 이동동 바로 입구라 구경도 편히 잘 했네요. 체크인 2시, 체크아웃 12시라 놀랐습니다.ᄒᄒ 너무 여유롭게 지내다 갑니다~~ 주차 공간이 협소한 단점 빼면 최고입니다~!\n",
      "\n"
     ]
    },
    {
     "name": "stderr",
     "output_type": "stream",
     "text": [
      "🔍 Predicting:  53%|██████████████████████████████▋                           | 56/106 [12:09<12:50, 15.40s/batch]"
     ]
    },
    {
     "name": "stdout",
     "output_type": "stream",
     "text": [
      "\n",
      "🔹 [Batch 56]\n",
      "\n",
      "📌 난독화된 입력: 10월 쪼엘 방문했씁뉘땁. 울룡롭 윤엉돼는 쒸뢰 쑤옇쟝은 넹턍위엿써욤. 넒뮤 춘웜셔 온슈턍엣섬만 멈뮤름타 냐왓숲뉘닫. 숩온 관림는 따롭 않 한낚 퐈오. 클레돈 륨 껀티썬운 좋았꼿 쫏식또 휼룽햇숩닌댜. 따신 빵뮨한닮먼 쑬옇창은 윕옹햐췹 안울 겻 갇탕오.\n",
      "✅ 복원된 출력: 10월 초에 방문했습니다. 유료로 운영되는 실외 수영장은 냉탕이었어요. 너무 추워서 온수탕에서만 머물다 나왔습니다. 온수 관리는 따로 안 하나 봐요. 그래도 룸 컨디션은 좋았고 조식도 훌륭했습니다. 다시 방문한다면 수영장은 이용하지 않을 것 같아요.\n",
      "\n"
     ]
    },
    {
     "name": "stderr",
     "output_type": "stream",
     "text": [
      "🔍 Predicting:  54%|███████████████████████████████▏                          | 57/106 [12:14<10:05, 12.37s/batch]"
     ]
    },
    {
     "name": "stdout",
     "output_type": "stream",
     "text": [
      "\n",
      "🔹 [Batch 57]\n",
      "\n",
      "📌 난독화된 입력: 끊쳐엥 볼윌 폴럴 왓댜캬 1빡우롬 톄먀 묘텔룰 윌옹헵써오. 훅깆됴 좋공 꺄걱때됴 졍럼헤써 궁굶햇는뎬 쥑첩 일옹햅뵤뉘 넣뭇 만촉쓸런어욤. 동캉 쀼됴 졍먈 좋코 쭈챵 싶섧독 짤 뒈얹 잃썰요~^^\n",
      "✅ 복원된 출력: 근처에 볼일 보러 왔다가 1박으로 테마 모텔을 이용했어요. 후기도 좋고 가격대도 저렴해서 궁금했는데 직접 이용해보니 너무 만족스러워요. 동강 뷰도 정말 좋고 주차 시설도 잘 되어 있어요~^^\n",
      "\n"
     ]
    },
    {
     "name": "stderr",
     "output_type": "stream",
     "text": [
      "🔍 Predicting:  55%|███████████████████████████████▋                          | 58/106 [12:27<09:56, 12.43s/batch]"
     ]
    },
    {
     "name": "stdout",
     "output_type": "stream",
     "text": [
      "\n",
      "🔹 [Batch 58]\n",
      "\n",
      "📌 난독화된 입력: 씨섦릿 칼끎합뉘딱. 곡껙예 때한 셔삣쓰 막인뚝까 쵯교얘욘.\n",
      "✅ 복원된 출력: 시설이 깔끔합니다. 고객에 대한 서비스 마인드가 최고예요.\n",
      "\n"
     ]
    },
    {
     "name": "stderr",
     "output_type": "stream",
     "text": [
      "🔍 Predicting:  56%|████████████████████████████████▎                         | 59/106 [12:39<09:45, 12.46s/batch]"
     ]
    },
    {
     "name": "stdout",
     "output_type": "stream",
     "text": [
      "\n",
      "🔹 [Batch 59]\n",
      "\n",
      "📌 난독화된 입력: 쥑퀀뷴듦 댜 췬철학꼬 편했씁뉘땅. 슈엉창 임용햐긷됴 좋았코, 롭뷔 첵곽졈 껙있쿡갸 췬차 맞잇얽서오.\n",
      "✅ 복원된 출력: 직원분들 다 친절하고 편했습니다. 수영장 이용하기도 좋았고, 로비 제과점 케이크가 진짜 맛있었어요.\n",
      "\n"
     ]
    },
    {
     "name": "stderr",
     "output_type": "stream",
     "text": [
      "🔍 Predicting:  57%|████████████████████████████████▊                         | 60/106 [13:01<11:40, 15.22s/batch]"
     ]
    },
    {
     "name": "stdout",
     "output_type": "stream",
     "text": [
      "\n",
      "🔹 [Batch 60]\n",
      "\n",
      "📌 난독화된 입력: 념뮤 큰 붉편함괌 떠력윰믈 켱혐햇숩닐댜. 엎첨 읽렇켸 윤넝울 핫쉬는쥐 묘름뀄녜오. 용청햐눈 샤항맛댜 않 퇸따교 핫씹꾜, 씸쮜여 켤국웬 환붉 오쩡독 줴땔료 들려쥬짊 앉얕숩닝댜. 1충 까운텨(롭피토 얍뉩님댜)엥섯 켬쁠례윗늙 맑숨뚤륀눈 왓충웨 달룬 객씰뤠 뮤끄쉰 뷴듦돐 삣숫한 낵용읠 맒쑤물 하쉬터략꼬욤. 압, 졍맑 닫쉰는 쏭청읕롬 갸교 십쥐 안읊 청또윕뉘달. 몄 캇찌많 맑햅뵤짜면 1. 셈면태 먁큄(물뤼 잚 얀낼러깜) 2. 셈먼떼 및예 함슈꾹캬 막혀 쎌면태를 삭옹하면 옥싫 밧딱읽 묘두 처줆 3. 룸 네 젼화키, 헬었툴랴잉엽 먕걋침 4. 쿄쳄 오쩡헤토 휑옅툴란있여만 핵축코 젼확귁는 꿎낵 않 해춤 5. 췸댔 훼두렛쓺뚜엘 위우 묘를 얾룩, 빵 빡컹 탈략꾜 옴쩡했스낡 낢눈 빵 엾움 6. 쑬렉끼 졍륌 졔태룟 얀 됨(꿋섟궤 욹릿갸 쓴 적 엎눈 슬뤠키 잊곯, 쩐잣탐베 콩쵸 밝껸) 7. 끝네 싸쟝뉨묽 풀렷셔 껌뿔렘인늙 결 떼, 맑 끈교 뜯키 씰훈뉘 냠믄 슉팍비 환뿔핸쥰딱코 학굔 갊 태츙많 절곁됴 잎 쩡돋윕닉댜. 녀뮤 휨든 븃싼 옇행위얻눼오. 휵갸 썲써 썲융롓셩 왔는뎨 정말로 쒸깐광 돈늙 벌릭곳..\n",
      "✅ 복원된 출력: 너무 큰 불편함과 더러움을 경험했습니다. 왜 그렇게 운영을 하시는지 모르겠네요. 요청하는 사항마다 안 된다고 하시고, 심지어 국내엔 환불 요청도 제대로 들려주지 않았습니다. 1층 카운터(로비도 아닙니다)에서 컴플레인을 말씀드리는 와중에 다른 객실에 머무신 분들도 비슷한 내용의 말씀을 하시더라고요. 아, 정말 다시는 송정으로 가고 싶지 않을 정도입니다. 몇 가지만 말해보자면 1. 세면대 막힘(물이 잘 안내려감) 2. 세면대 밑에 하수구가 막혀 세면대를 사용하면 욕실 바닥이 모두 젖음 3. 룸 내 전화기, 헤어드라이기 막힘 4. 교체 요청해도 헤어드라이기만 해주고 전화기는 전혀 안 해줌 5. 침대 헤드레스트에 이유 모를 얼룩, 방 바꿔 달라고 요청하니 그제서야 바꿔줌 6. 정말 다시는 송정으로 가고 싶지 않을 정도입니다. 아래는 당시 적었던 메모입니다.\n",
      "\n"
     ]
    },
    {
     "name": "stderr",
     "output_type": "stream",
     "text": [
      "🔍 Predicting:  58%|█████████████████████████████████▍                        | 61/106 [13:13<10:45, 14.33s/batch]"
     ]
    },
    {
     "name": "stdout",
     "output_type": "stream",
     "text": [
      "\n",
      "🔹 [Batch 61]\n",
      "\n",
      "📌 난독화된 입력: 츙챠할 텐 쫌 뿔펀햇 교, 머 끙겨 뺄굔 따 괸챦앝여욥.\n",
      "✅ 복원된 출력: 주차할 때 좀 불편해 고, 뭐 그거 빼곤 다 괜찮았어요.\n",
      "\n"
     ]
    },
    {
     "name": "stderr",
     "output_type": "stream",
     "text": [
      "🔍 Predicting:  58%|█████████████████████████████████▉                        | 62/106 [13:25<09:58, 13.61s/batch]"
     ]
    },
    {
     "name": "stdout",
     "output_type": "stream",
     "text": [
      "\n",
      "🔹 [Batch 62]\n",
      "\n",
      "📌 난독화된 입력: 잃뿔됴 눅눅학곧 뉼런 얽륙엡 쥔둑퀴캄 냐욜꺄 퐈 팜쌔 뜀쮜략껼뤼타 잚토 한낟또 묫 짰눼욘... 눼윕퍼 뽀닌꺄 펑첨인 좋뎐뎨 솔찍힐 쩨 셍깍켄 관할쩡엣셔 윗쌩걺싻갸 낚옮면 엉옆 쩡쥐닿햐쥐 않읊깝 십쑵님댜. 복됴옛 슈컨학코 펙걔 꺾벼만 껀좀데웨 맑뤽꽂 있눈 계 일붊 맴변 웨쥴료 쉐탁 맏귀는 겆 갇직됴 얀꼬오. 잃렬 쭐 았랐음먼 쌥벅웨 윤젼행써 똥햇 잃출 볼껼 돈만 낢뤼꼬 쟘툐 섦쩌썸 덛 핍콘햇눼옴.\n",
      "✅ 복원된 출력: 이불도 눅눅하고 흐린 하늘에 쥐들이가 나올까 봐 밤새 뒤척뒤척이다 잠도 하나도 못 잤네요... 네이버 보니까 평점이 좋던데 솔직히 제 생각에 관할청에서 위생검사가 나오면 영업 중지하지 않을까 싶습니다. 복도에 수건하고 베개 커버만 건조대에 말리고 있는 게 이불 매번 외부로 세탁 맡기는 것 같지도 않고요. 이럴 줄 알았으면 새벽에 운전해서 동해 일출 볼 돈만 날리고 잠도 설쳐서 더 피곤했네요.\n",
      "\n"
     ]
    },
    {
     "name": "stderr",
     "output_type": "stream",
     "text": [
      "🔍 Predicting:  59%|██████████████████████████████████▍                       | 63/106 [13:35<08:58, 12.52s/batch]"
     ]
    },
    {
     "name": "stdout",
     "output_type": "stream",
     "text": [
      "\n",
      "🔹 [Batch 63]\n",
      "\n",
      "📌 난독화된 입력: 딱넜턴 홉뗄 충엣셔 옥쉴 많죡독갸 쵱교윕뉘타. 옥쪼까 깊곯 쑤얍돔 쉑코 뱉숟토 파릎뉨따. 쉰콴 쥐햐예 얘뜰 뇰잃 쉿썰톡 좋숩닉따. 킴줆 틀랴위삥, 풀쓰팡. 아왜 풀은 착군 퍼뉩닒댜. 양왼 뇨쩐턍은 뻔얀합닢댜.\n",
      "✅ 복원된 출력: 다녔던 호텔 중에서 욕실 만족도가 최고입니다. 욕조가 깊고 수압도 세고 뱉수도 빠릅니다. 신관 지하에 애들 놀이 시설도 좋습니다. 키즈 드라이빙, 풀스파. 야외 풀은 작은 편입니다. 야외 노천탕은 편안합니다.\n",
      "\n"
     ]
    },
    {
     "name": "stderr",
     "output_type": "stream",
     "text": [
      "🔍 Predicting:  60%|███████████████████████████████████                       | 64/106 [13:45<08:17, 11.85s/batch]"
     ]
    },
    {
     "name": "stdout",
     "output_type": "stream",
     "text": [
      "\n",
      "🔹 [Batch 64]\n",
      "\n",
      "📌 난독화된 입력: 켁꿋햐교 찐젊합님탐. 쥰변또 좋교 1쯩 편늴첨뮈 잇씁니댜. 쥬챠 쥐언됴 헤쮸코 챨 쒸댜 왓씁니댜. 깼빼깥취또 결여걀 많 합뉘따.\n",
      "✅ 복원된 출력: 깨끗하고 친절합니다. 주변도 좋고 1층 편의점이 있습니다. 주차 지원도 해주고 잘 쉬다 왔습니다. 깨배끼지도 버릴 만 합니다.\n",
      "\n"
     ]
    },
    {
     "name": "stderr",
     "output_type": "stream",
     "text": [
      "🔍 Predicting:  61%|███████████████████████████████████▌                      | 65/106 [13:53<07:16, 10.64s/batch]"
     ]
    },
    {
     "name": "stdout",
     "output_type": "stream",
     "text": [
      "\n",
      "🔹 [Batch 65]\n",
      "\n",
      "📌 난독화된 입력: 갸썽뷕갸 값! 깼꿋헤오. 찐쩔헤욜. 8씨예 왔눈톄 맺첨잊 닫앗언용. ㅠㅠ\n",
      "✅ 복원된 출력: 가성비가 갑! 깨끗해요. 친절해요. 8시에 왔는데 매점이 닫았어요. ᅲᅲ\n",
      "\n"
     ]
    },
    {
     "name": "stderr",
     "output_type": "stream",
     "text": [
      "🔍 Predicting:  62%|████████████████████████████████████                      | 66/106 [14:11<08:35, 12.88s/batch]"
     ]
    },
    {
     "name": "stdout",
     "output_type": "stream",
     "text": [
      "\n",
      "🔹 [Batch 66]\n",
      "\n",
      "📌 난독화된 입력: 18충엔눈 핵윤댐 젼먕읊 깜쌍햐며 뮈뉩퓰렛셔 탸앙한 움룔를 즐킬 슈 잇눈 륙뿔땁 파깍 있답. 총 407겝윔 깩씰룰 윤옇햐교 잊눈 4썽굽 홑텔잇댜. 헤윤델 핼숲옥쟝 엾 췌척읠 장솥웨 윈찌헹 잇코, 갸걱 데핀 쳔먕돔 쉼썰돋 문냔항답.( 쌌찐 - 효뗄 쩐켱 & 넵뷰 젼켱. 얄켱 )\n",
      "✅ 복원된 출력: 18층에는 해운대 전망을 감상하며 미니풀에서 다양한 음료를 즐길 수 있는 루프탑 바가 있다. 총 407개의 객실을 운영하고 있는 4성급 호텔이다. 해운대 해수욕장 옆 최적의 장소에 위치해 있고, 가격 대비 전망도 시설도 무난하다.( 사진 - 호텔 전경 & 내부 전경. 야경 )\n",
      "\n"
     ]
    },
    {
     "name": "stderr",
     "output_type": "stream",
     "text": [
      "🔍 Predicting:  63%|████████████████████████████████████▋                     | 67/106 [14:21<07:48, 12.01s/batch]"
     ]
    },
    {
     "name": "stdout",
     "output_type": "stream",
     "text": [
      "\n",
      "🔹 [Batch 67]\n",
      "\n",
      "📌 난독화된 입력: 좋은 펀. 쬘굡눈 앝닐랄곬 생칵깐는떼 짤 몲룩겠움.\n",
      "✅ 복원된 출력: 좋은 편. 최고는 아니라고 생각하는데 잘 모르겠음.\n",
      "\n"
     ]
    },
    {
     "name": "stderr",
     "output_type": "stream",
     "text": [
      "🔍 Predicting:  64%|█████████████████████████████████████▏                    | 68/106 [14:43<09:30, 15.03s/batch]"
     ]
    },
    {
     "name": "stdout",
     "output_type": "stream",
     "text": [
      "\n",
      "🔹 [Batch 68]\n",
      "\n",
      "📌 난독화된 입력: 푸갸 쩡먈 좋씁닉닭. 빻돌 깖끎학곱 격청햇턴 껏뽀단 쟉짇됴 앉았썽 좋야써욥. 켭람먼 촛쉭됴 굿.\n",
      "✅ 복원된 출력: 뷰가 정말 좋습니다. 방도 깔끔하고 걱정했던 것보다 작지도 않아서 좋았어요. 컵라면 조식도 굿.\n",
      "\n"
     ]
    },
    {
     "name": "stderr",
     "output_type": "stream",
     "text": [
      "🔍 Predicting:  65%|█████████████████████████████████████▊                    | 69/106 [14:54<08:27, 13.72s/batch]"
     ]
    },
    {
     "name": "stdout",
     "output_type": "stream",
     "text": [
      "\n",
      "🔹 [Batch 69]\n",
      "\n",
      "📌 난독화된 입력: 뭄죠컨 컁츄!! 싸쟝닒 쨩 찐졀햐씨코 슉쏙까 청먈 칼끎햐꼲 퍼난헤욕!! 1층 룝퓐 옅려술 뗐 왐 갊딴!! 넒묵 잎뼈오. 얻귄는 캇뻬윈갉 홍텔윈갸^^\n",
      "✅ 복원된 출력: 무조건 강추!! 사장님 짱 친절하시고 숙소가 정말 깔끔하고 편안해요!! 1층 로비 었을 때 와 감탄!! 너무 이뻐요. 여기는 카페인가 호텔인가^^\n",
      "\n"
     ]
    },
    {
     "name": "stderr",
     "output_type": "stream",
     "text": [
      "🔍 Predicting:  66%|██████████████████████████████████████▎                   | 70/106 [15:04<07:29, 12.50s/batch]"
     ]
    },
    {
     "name": "stdout",
     "output_type": "stream",
     "text": [
      "\n",
      "🔹 [Batch 70]\n",
      "\n",
      "📌 난독화된 입력: 쬘약위 셥피쓰와 까셩피 민팍됴 억킵봉단 깖큼할 틋. 빪쿄니웨 땀벤 꽁쵸 모얕듄 폐투뼝돕 밞껸 묫햐눈 쩡솎엽찰까 있읔님 먈 타 햇쥐. 파푼님칸 끄럴 쑤 잇탄는 쑥밗엽쏘예썬는 않 똥한눈 먈륌. 빠쁩키 태문엑 뎌욱떠 쑥뱍껙욹 쉼꼐 헥아찔, 숙뱍걔긁 떠 퓌굔학꼐 핫먼 홉뗄료써윌 푠쥐링 후러찢쥐 앉흙캉?\n",
      "✅ 복원된 출력: 최악의 서비스와 가성비 민박도 여기보단 깔끔할 듯. 발코니에 담배 꽁초 모아둔 캔버스도 밖에 못하는 청소업체가 있으니 말 다 했지. 고객님이 그럴 수 있다는 숙박업소에서는 안 통하는 말임. 바가지 때문에 더더욱 숙박객을 힘들게 해야지, 숙박객을 더 피곤하게 하면 호텔로서의 이미지 추락하지 않을까?\n",
      "\n"
     ]
    },
    {
     "name": "stderr",
     "output_type": "stream",
     "text": [
      "🔍 Predicting:  67%|██████████████████████████████████████▊                   | 71/106 [15:15<07:01, 12.04s/batch]"
     ]
    },
    {
     "name": "stdout",
     "output_type": "stream",
     "text": [
      "\n",
      "🔹 [Batch 71]\n",
      "\n",
      "📌 난독화된 입력: 묶죠컨 띠력쓰급푿떠 익옹 츄쩐! 쑤펠립여왓 스땐땃튼눈 깩씰윙 영맣윈 겅욱갸 잇였섬 냥팰를 푠 쩍 잇움.\n",
      "✅ 복원된 출력: 무조건 디럭스급부터 이용 추천! 슈페리어와 스탠다드에는 객실이 엉망인 경우가 있어서 낭패를 본 적 있음.\n",
      "\n"
     ]
    },
    {
     "name": "stderr",
     "output_type": "stream",
     "text": [
      "🔍 Predicting:  68%|███████████████████████████████████████▍                  | 72/106 [15:26<06:36, 11.67s/batch]"
     ]
    },
    {
     "name": "stdout",
     "output_type": "stream",
     "text": [
      "\n",
      "🔹 [Batch 72]\n",
      "\n",
      "📌 난독화된 입력: 켬폭틂뤠젼룸물 위옹헷눈떼 윈떠넸 공우킥갸 방맞탑 잊눈 궤 앉닒략 쯩펄로 한 댁씩 윗눈 견취, 넝뮤녀뮤 끈검썬 엉환됴 쩨데롭 볼 슈캄 엽셨옥. 쁘론투엥 젼활햐니 인믹 효텔돗 인치학꼬 있태옻. 꿀렇댜면 콩욱길를 축갉롬 섦칡한눈 게 였털카옭? 통녜 몽뗄됴 앉닉꼬 3썽큽 홅떼륀테옳. 쩨킁인토 1쉭깐 청돔 키땁릭공... 익퀘 뮤쓴...? 얀묾린 쿤 홀퉤룰 갸톳 췌쿠인은 낍따륀 쩍운 엎눈텡 툐대체 왜...\n",
      "✅ 복원된 출력: 블랙리스트룸을 이용했는데 인터넷 공유기가 방마다 있는 게 아니라 층별로 한 대씩 있는 건지, 너무너무 귀찮아서 영화도 제대로 볼 수가 없어요. 프론트에 전화하니 이미 호텔도 인지하고 있대요. 그렇다면 공유기를 추가로 설치하는 게 아닐까요? 동네 모텔도 아니고 3성급 호텔인데요. 체크인도 1시간 정도 걸리고... 이게 무슨...? 아무리 큰 호텔을 가도 체크인은 기다린 적은 없는데 도대체 왜...\n",
      "\n"
     ]
    },
    {
     "name": "stderr",
     "output_type": "stream",
     "text": [
      "🔍 Predicting:  69%|███████████████████████████████████████▉                  | 73/106 [15:42<07:15, 13.19s/batch]"
     ]
    },
    {
     "name": "stdout",
     "output_type": "stream",
     "text": [
      "\n",
      "🔹 [Batch 73]\n",
      "\n",
      "📌 난독화된 입력: 슉쏙갊 깔끎했썸 좋앝옇오. 씬펑쏙콩원많 쌩갸캣눈뎀 쫍굶 걺옆 칡람향 촉을로 갼뉘 횃짚필량 식닿돗 만쿄, 업빤창웰섞 껴넒묵리낱 씽슁한 했샨뮬또 빨교 핵썩 싼첵동 학꾜 샀딱갸 쑥숏웨섯 빱 멱교 쉭끼예 딱 좋뎌락교오. 낢쉬갸 좋암션 윌출꽈 낙쫍토 볼 슈 있옅답님따.\n",
      "✅ 복원된 출력: 숙소가 깔끔해서 좋았어요. 장충체육관만 생각했는데 조금 걸어 지하철 쪽으로 가니 횟집이랑 식당도 많고, 어반장에서 거대한 해넘이나 시원한 해수물도 받고 해서 산책도 하고 사다가 숙소에서 밥 먹고 쉬기에 딱 좋더라고요. 날씨가 좋아서 일출과 일몰도 볼 수 있었답니다.\n",
      "\n"
     ]
    },
    {
     "name": "stderr",
     "output_type": "stream",
     "text": [
      "🔍 Predicting:  70%|████████████████████████████████████████▍                 | 74/106 [15:57<07:18, 13.70s/batch]"
     ]
    },
    {
     "name": "stdout",
     "output_type": "stream",
     "text": [
      "\n",
      "🔹 [Batch 74]\n",
      "\n",
      "📌 난독화된 입력: 쵠꾼넴 단너온 5셩굽 츙엘써됴 셥빚씁 1퉁! 툭힝 쩨끄인해 춘 냠쟈 칙원뿐 념묽 췬절한싶뉘탔. <Ethan> 췽권 턱붑넵 췌꾸윈뿌텨 완벅켓썬오. 중갼충갼 여룽뮌냐 캬씁깃 온청 쳔활뱌닻쥬신 쥑언푼돌 졍먈 친절항썼씁닐댜. - 냐 \"늦운 씩갼눼 죗숑합뉘탕. 얽음읊 졺 밭읊 쑨 있술캬욜?\" - 췰건 \"Oui, 긍렴오!!!\" '끓렴몫'란는 뎁땁 쩌움 듦얻눈뒈 괜힉 귀뿐 좋골 덛덧욱 캄샤햐덩략꽁욧. 뭬뉘삐쿠루믿 쩐맣일 압 견뮬에 갸렸찐단눈 걺 묠라섰눈톄 28충인얻냐? 놉은 쯩읕료 쥰뷔햇쥬션셔 욜히렸 좋앗쑵뉘닸^^ 꿀릭교 력설립 방폭댜 넋넋깍꾜 끈 겻 걋탸용~ 쬐쿄위 춧역 만들엿춧섯써 깜싸합뉘따!\n",
      "✅ 복원된 출력: 최근에 다녀온 5성급 중에서도 서비스 1등! 특히 체크인해 준 남자 직원분 너무 친절하십니다. <Ethan> 직원 덕분에 체크인부터 완벽했어요. 중간층이 원룸이라 카드키 요청 전화받아주신 직원분도 정말 친절하셨습니다. - 나 \"늦은 시간에 죄송합니다. 얼음을 좀 받을 수 있을까요?\" - 직원 \"Oui, 그럼요!!!\" '얼음컵'이라는 데다 처음 들었는데 괜히 기분 좋고 더더욱 감사하더라고요. 미니바리가 전망이 앞 건물에 가려진다는 걸 몰랐는데 28층이었냐? 높은 층으로 준비해주셔서 오히려 좋았습니다^^ 그리고 럭셔리 방보다 넉넉하게 큰 것 같아요~ 최고의 추억 만들어주셔서 감사합니다!\n",
      "\n"
     ]
    },
    {
     "name": "stderr",
     "output_type": "stream",
     "text": [
      "🔍 Predicting:  71%|█████████████████████████████████████████                 | 75/106 [16:08<06:39, 12.89s/batch]"
     ]
    },
    {
     "name": "stdout",
     "output_type": "stream",
     "text": [
      "\n",
      "🔹 [Batch 75]\n",
      "\n",
      "📌 난독화된 입력: 깔쿰학콕 췬쩔함면, 쵸쉭돔 만죡합뉩댜.\n",
      "✅ 복원된 출력: 깔끔하고 친절하며, 조식도 만족합니다.\n",
      "\n"
     ]
    },
    {
     "name": "stderr",
     "output_type": "stream",
     "text": [
      "🔍 Predicting:  72%|█████████████████████████████████████████▌                | 76/106 [16:20<06:16, 12.55s/batch]"
     ]
    },
    {
     "name": "stdout",
     "output_type": "stream",
     "text": [
      "\n",
      "🔹 [Batch 76]\n",
      "\n",
      "📌 난독화된 입력: 옐약 졍뵤엠 돝착 예쩡 싫갼눌 청할략꾜 햐엷 (**10실 썬떽학꾜 옙약깼텬뉘 예야깃 완로**)까 됫여써 10씻까췰 깥는테 유륀눈 2쉬 윕씨뤼닛카 팖륑 냐갛락꼬 척판한창씩욹롱 솝륄룰 찢섰댜…;??? (1찮 닿황) 관뤼윈뿌닐 위커 첵끄함먼 2씬 첬넨눈 옴찌 말랴눈 않낵카 문차냐 천활료 욘타는템 쳔허 문찼또 쳔홧툐 앉 왔닦교 화긴씨커둡렀텨니 많휘 턍황할섯슴… (잃욺 콤콤햐께 잚 앉 합씨눈 둣..)(2챠 땋황) 쌉위틂웨 끄렴면 젊 항목읊 삯쳉핫쒸떤갸 좃찌룰 취핼야 햐눈 꺼 야닌캬욥? 삵위뜨 관륀는 눅갸 핫씨눈 컸잊쵸? 평친방 콴뤼, 샤위뜨 관뤼하씨는 뷴들 넒뮤 만힉 실맣했숲뉘댜…..  빨뤼 샵위틋웽 있눈 켱 뻔껑 항셤셔 똑깥은 읽 엎돌록 하씸면 죠흙 켯 갓숲닐댜..\n",
      "✅ 복원된 출력: 예약 정보에 도착 예정 시간을 정하라고 하여 (**10시 선택하고 예약했더니 예약이 완료**)가 되어서 10시까지 갔는데 우리는 2시 입실이니까 빨리 나가라고 적반하장으로 소리를 질렀다...;??? (1차 당황) 관리인분이 이거 체크하면 2시 전에는 오지 말라는 안내가 문자나 전화로 오는데 전혀 문자도 전화도 안 왔다고 확인시켜드렸더니 많이 당황하셨음... (일을 꼼꼼하게 잘 안 하시는 듯..)(2차 당황) 사이트에 그러면 저 항목을 사과하시던가 조치를 취해야 하는 거 아닌가요? 사이트 관리, 사이트 관리하시는 분들 너무 많이 실망했습니다.....  빨리 사이트에 있는 걸 변경 하셔서 똑같은 일 없도록 하세요.\n",
      "\n"
     ]
    },
    {
     "name": "stderr",
     "output_type": "stream",
     "text": [
      "🔍 Predicting:  73%|██████████████████████████████████████████▏               | 77/106 [16:32<06:03, 12.55s/batch]"
     ]
    },
    {
     "name": "stdout",
     "output_type": "stream",
     "text": [
      "\n",
      "🔹 [Batch 77]\n",
      "\n",
      "📌 난독화된 입력: 확챵쉴 핫슈꿍 넴섈카 좀 낟코 윈뷸위 석 쩡켤합친 앉눼옰. 긁레또 햐륫 슉박할는 퉤는 끊 뮨젬 엽습뉘닦. 욘돎빵은 쩍절학곌 난방헤 추셜썩 쾨척항께 잖코 냐왔씁닛닷.\n",
      "✅ 복원된 출력: 화장실 하수구 냄새가 좀 나고 이불이 썩 청결하지 않네요. 그래도 하루 숙박하는 데는 큰 문제 없습니다. 온돌방은 적절히 난방해 주셔서 쾌적하게 자고 나왔습니다.\n",
      "\n"
     ]
    },
    {
     "name": "stderr",
     "output_type": "stream",
     "text": [
      "🔍 Predicting:  74%|██████████████████████████████████████████▋               | 78/106 [16:46<06:03, 12.98s/batch]"
     ]
    },
    {
     "name": "stdout",
     "output_type": "stream",
     "text": [
      "\n",
      "🔹 [Batch 78]\n",
      "\n",
      "📌 난독화된 입력: 건묽많끔 륨됴 청걸학꼬 좋우낢 옥실릿 쫌 장끔. 끌런낭 빨랴따윗슴 염폘 윕취헥 퍄땃카 냑깍귀 편햐꾜 갗셩퓌 좋운 홈텔읾.\n",
      "✅ 복원된 출력: 건물만큼 룸도 청결하고 좋으나 욕실이 좀 작음. 그러나 파라다이스 옆에 위치해 바닷가 나가기 편하고 가성비 좋은 호텔임.\n",
      "\n"
     ]
    },
    {
     "name": "stderr",
     "output_type": "stream",
     "text": [
      "🔍 Predicting:  75%|███████████████████████████████████████████▏              | 79/106 [16:55<05:13, 11.61s/batch]"
     ]
    },
    {
     "name": "stdout",
     "output_type": "stream",
     "text": [
      "\n",
      "🔹 [Batch 79]\n",
      "\n",
      "📌 난독화된 입력: 곶 핫햅짊 효뗄윅규뇹.\n",
      "✅ 복원된 출력: 곧 핫해질 호텔이군요.\n",
      "\n"
     ]
    },
    {
     "name": "stderr",
     "output_type": "stream",
     "text": [
      "🔍 Predicting:  75%|███████████████████████████████████████████▊              | 80/106 [17:07<05:02, 11.64s/batch]"
     ]
    },
    {
     "name": "stdout",
     "output_type": "stream",
     "text": [
      "\n",
      "🔹 [Batch 80]\n",
      "\n",
      "📌 난독화된 입력: 둥샨쭝, 풂룬의 셩쥐 몬텔\n",
      "✅ 복원된 출력: 등산충, 불륜의 성지 모텔\n",
      "\n"
     ]
    },
    {
     "name": "stderr",
     "output_type": "stream",
     "text": [
      "🔍 Predicting:  76%|████████████████████████████████████████████▎             | 81/106 [17:18<04:51, 11.68s/batch]"
     ]
    },
    {
     "name": "stdout",
     "output_type": "stream",
     "text": [
      "\n",
      "🔹 [Batch 81]\n",
      "\n",
      "📌 난독화된 입력: 뜩쉴 위용햇교, 삽쟝닒인 찐철향섯셔 좋얕엄욘! 따만 쥼먈웨눈 쥬짝까 풀펀학꼬 빵움읽 찰 얀 됩뉘담. 쿡켰 말굔눈 할류 뻔학켑 찼얻오!\n",
      "✅ 복원된 출력: 특실 이용했고, 사장님이 친절하셔서 좋았어요! 다만 주말에는 주차가 불편하고 방음이 잘 안 됩니다. 그거 말고는 하루 편하게 잤어요!\n",
      "\n"
     ]
    },
    {
     "name": "stderr",
     "output_type": "stream",
     "text": [
      "🔍 Predicting:  77%|████████████████████████████████████████████▊             | 82/106 [17:29<04:32, 11.33s/batch]"
     ]
    },
    {
     "name": "stdout",
     "output_type": "stream",
     "text": [
      "\n",
      "🔹 [Batch 82]\n",
      "\n",
      "📌 난독화된 입력: 츈숨윅틉쿱 췸신례 높쁜 쳔먕, 콕큽슭령운 롭빕 퉁\n",
      "✅ 복원된 출력: 주니어급 침실에 높은 전망, 고급스러운 로비 등\n",
      "\n"
     ]
    },
    {
     "name": "stderr",
     "output_type": "stream",
     "text": [
      "🔍 Predicting:  78%|█████████████████████████████████████████████▍            | 83/106 [17:39<04:09, 10.85s/batch]"
     ]
    },
    {
     "name": "stdout",
     "output_type": "stream",
     "text": [
      "\n",
      "🔹 [Batch 83]\n",
      "\n",
      "📌 난독화된 입력: 완뼉하쥐 앉운 케 한났툐 엾떤 완뻐칸 훅걍를 뵨넸씁닒달!\n",
      "✅ 복원된 출력: 완벽하지 않은 게 하나도 없던 완벽한 휴가를 보냈습니다!\n",
      "\n"
     ]
    },
    {
     "name": "stderr",
     "output_type": "stream",
     "text": [
      "🔍 Predicting:  79%|█████████████████████████████████████████████▉            | 84/106 [17:53<04:21, 11.88s/batch]"
     ]
    },
    {
     "name": "stdout",
     "output_type": "stream",
     "text": [
      "\n",
      "🔹 [Batch 84]\n",
      "\n",
      "📌 난독화된 입력: 귀탸림위 쉭칸위 찐냑코 캑실예 잎씰... 웨엌껀눌 컨교 눈엡 뽀윈는뎨... 쏜인 둘럴갇칩 앉합 픈론뚜예 언랴켓섦 삶람잉 탄녀갊... 군델, 윅껀 안뉨찡 안냐!? 잃랠 놓꽃 엉연빤는 겻순 뮷쑨 씸봅윈갸? 쫴쇼하뉨 쩡숀눈 닿얹함콧, 왔뎐 샬랴밌 타음뭬 토 요교 씹케서옻?! 얼꿉 류빵? 잃 쫌 줴테롭 합쉿타.\n",
      "✅ 복원된 출력: 기다림의 시간이 지나고 객실에 입실... 에어컨을 켜고 눈에 보이는데... 손이 들어가지 않아 프론트에 연락해서 사람이 들어감... 근데, 이건 아니지 않나!? 이래 놓고 영업하는 것은 무슨 심보인가? 청소하니 청소는 당연하고, 왔던 사람이 다음에 또 오고 싶었어요?! 여름 룸방? 이 좀 제대로 합시다.\n",
      "\n"
     ]
    },
    {
     "name": "stderr",
     "output_type": "stream",
     "text": [
      "🔍 Predicting:  80%|██████████████████████████████████████████████▌           | 85/106 [18:14<05:10, 14.81s/batch]"
     ]
    },
    {
     "name": "stdout",
     "output_type": "stream",
     "text": [
      "\n",
      "🔹 [Batch 85]\n",
      "\n",
      "📌 난독화된 입력: 썽숨억옛셔 깡꺄어셥 찻귁갇 쉽터큐노~ 찍원푼뚤잃 녈뮤 찐젊핫섯선 귀쀼뉩 좋앝숲닐단. 깩쉴됴 꺌끎학교 잎붉돕 캐끗헷써 녀문넓뭉 좋앝쑵니땃. 쟐 쒸땄 왓씁뉘댜. 닺음멜 또 갸먼 타룬 캑쉴울 임옹헤 봐악곗썸올^^\n",
      "✅ 복원된 출력: 성수역에서 가까워서 찾기가 쉽더라구요~ 직원분들이 너무 친절하셔서 기분이 좋았습니다. 객실도 깔끔하고 이불도 깨끗해서 너무너무 좋았습니다. 잘 쉬다 왔습니다. 다음에 또 가면 다른 객실을 이용해 봐야겠어요^^\n",
      "\n"
     ]
    },
    {
     "name": "stderr",
     "output_type": "stream",
     "text": [
      "🔍 Predicting:  81%|███████████████████████████████████████████████           | 86/106 [18:25<04:30, 13.52s/batch]"
     ]
    },
    {
     "name": "stdout",
     "output_type": "stream",
     "text": [
      "\n",
      "🔹 [Batch 86]\n",
      "\n",
      "📌 난독화된 입력: (실 빻뭉는 곽겨) 야, 윌탄 붇카 념묶 좋탸. 뽀통 겋뽀엑 부 좋흖 곧운 받타 졍먼 불랏셔 포댜 뵤먼 헤앉션많 쫙 뵤윅코 먁먁햐닉 쫌 뮬린눈떼, 억긷는 켱뾰 냠꿋 꺾인 토록갸엘 있억섞 45툐 옹션쀼갛 냐욘탁. 와익틀료 뵤위눈 햅편까읠 묫씁, 난 큭겡 던 좋더락. (※ 딴, 꼭 4쯩 위쌓 압 뻔홅롬 빵을 퍄탄얗 한타. 3충캬쥔는 촘 갸린따. 굵릴교 읽츌운 줴읽 핏싼 1펀 방많 퐁인댜.) 야, 굵뤽코 윗취까 졍맑 좋타. 윈룐눈 경표, 앓레룐눈 걍뮨 쫄닿, 탁 중깐예 엎웬는 켱뽀혹카 잊닯. 쭙번웬 퍼뉘쉿썰돌 만꼬 윗찍갗 딱 좋댜. 안, 청켤운 졍먈 앳맬묠홍한 횹떼림닸. 묘뗄칡굔는 칼끎함쥠많 효뗄칙교는 퓸쵸까닿. 인컨 꺄썽삐위 쉿셤늚롬 퐈앝 한타. 악, 윈뗄림얻는.. 윌탄 20덴는 욕취 앉눈 컬록.. ^^ 야, 촛씩은 악학따. 칸단한 팡률? 계슴투합유슭굻피략교 뵤먼 퉤뀄탸. 야, 카껴큰 납품찌 않닮. 펑윌웬 갼먼 혜착꾜 추맒료 갖먼 부 땡뷔 좋운 퍼뉘땅. 읾켠 철먀댜 담를 걺닛 큼택긁태 빤딴햐쒸먼 된따. 껼룐져구료 연인뀌륌 욘는 껏많 않뉨면 찐굳둔 갇죡잎뚠 횬찹둔 츄쳔한따.\n",
      "✅ 복원된 출력: (실 방문은 곽거) 아, 일단 뷰가 너무 좋다. 보통 경포에 뷰 좋은 곳은 바다 정면 뷰라서 보다 보면 해안서만 쫙 보이고 말하려니 좀 그런데, 여기는 경포 나무 그늘 아래 계곡에 있어서 45도 오션뷰가 나온다. 와이들로 보이는 해변가의 모습, 난 그게 더 좋더라. (※ 단, 꼭 4층 이상 앞 번화로 방을 바꿔야 한다. 3층까지는 좀 멀다. 그리고 일출은 제일 비싼 1번 방만 본다.) 아, 그리고 위치가 정말 좋다. 인로는 경포, 아래로는 강릉 초입, 딱 중간에 옆에는 경포호가 있다. 주변에 편의시설도 많고 위치가 딱 좋다. 아, 청결은 정말 매우매우한 호텔이다. 모텔치고는 깔끔하지만 호텔치고는 부족하다. 이건 가성비의 시설로 봐야 한다.\n",
      "\n"
     ]
    },
    {
     "name": "stderr",
     "output_type": "stream",
     "text": [
      "🔍 Predicting:  82%|███████████████████████████████████████████████▌          | 87/106 [18:41<04:33, 14.41s/batch]"
     ]
    },
    {
     "name": "stdout",
     "output_type": "stream",
     "text": [
      "\n",
      "🔹 [Batch 87]\n",
      "\n",
      "📌 난독화된 입력: 휴깃 착썽울 얀 햐눈톄, 꼭 척얻듀콜 싣푼 맑릴 잊썽 쟉셩합뉘댜. 윳썬 엌킨눈 5셩굽 홑뛔립뉘땃.   1. 룸옙 잎쟝햐차맞짜 먼치카 휜황챦랸학꼐 냘뤽꼿 위섰숩뉘따. 첵끄인 천눼 쩐활햄써 공귀쩡졍킬룰 옭쩡햇귀엑 맣청잇치 치큼 섕칵헤토 큼찍한눼옥. 환깃쉭킬럭꼬 창뮨을 엶럿는뎨 빵츙먕잃 엎습닝닷...   2. 챵뮤뉘 햐났됴 닦엇 있쮜 않씁님따. 묘뗄 짱뮨 뵤눈 껐 깥았넴욕.   3. 약귈를 윗핵 췸태 까두룰 옰청했눈뒈 췸때 갇둘 셰탁귀 않 뙈엮 윗씁닝댜.   4. 겻틀료 볶윈눈 꼬쓴 켁꿋한뎨 포윅쥐 않는 곳운 먼찌갸 쀼옇궤 얀야 있숲님따. 뗍뾰쪄끌론 찜테와 셈면테 싸잃 읾통 갼능한 깖림먁 포면 쿠썩꿋섟웨 면찝갸 씨컴멓케 냐욥뉜따. 전빤척굴료 륨 켠띠서눈 묫뗄 숱쥰돎 않 됩닉닭. 체갇 탉넛떤 효뗄 충 체읽 앉 좋넵오.   5셩꾸불료선 앝슁윤 뷰푼늙 콥차면   1. 분눈 폭끼헤얕 합뉘따. 윕찍갸 졍맒 얀 좋훈 굔쎄 윗언써 몇 쯩을 짭튼 쀼는 청맒 않 좋숲님따.   2. 킥츤륨운 4넌 된 쉰씩뀌략곡 쌩갛캬치 못핥 만끔 냑훌퇴업 있꼬, 까칫숱됴 벎롬 엾씁뉘탸. 굳선께 썰칟뙨 궤읾귀눈 쩡썅처긁록 쟉동함찌또 앉습뉘타.   3. 실낸 슈엉쟝운 청맒 착숩닝닭. 10값죡 념겟 툴여요먼 꽉 찹니댜. 쿠레섰 약귀둘 뚜프 뱐잎위 않 된눈 묠앙윕닛댜(끈낡맛또 판닢 통젠눈 짧 않 돼는 샹황). 구 와중예 슈엉 뤠읽깖쮜 납너 놔셔 텨 쟉씁뉘탸. 쑤엉 례읽됴 편토 쑤쭌뉘랴 청샹처퀸 숨옇토 여렵숲뉘댜.   4. 류푸탑 쑤옇창운 쩐짱만 뚫러 잊쥑, 갗뜨갸 넛뮤 높앓 룩쁘땁이략코 햐끼돎 민먕한 숲추닌델 읔먁읊 녀뮤 쿱겐 틂얾놔섧 쉭꿀렵씁뉘딸. 룹쁠탑 쑵옇창 싸윈츠툐 씰내 쑤엉쟝꽈 끄켸 탔를쥐 안쑵님타.   5. 쪼쉭 뷔펜는 갓짇숨까 만짖또 앉운테 국억울 3균뎨로 납넘놔셔 동썬일 맺윷 폭잡합닉따.   6. 춥짝쟝운 쩨쿠인울 읾칙 함면 뷰죡캬댜곯 누꺼칙는 쩡똔는 얀뉜뎨 쭝찾쟝 친윕/진출한는 입규꺄 뽁귀 쪼픈 곬몲퀴랏 홑텔 쥔닉빎 꾕창힙 붉펀합뉘탸.   7. 읾횔옹 찢쏠운 언레 벎 깃탠눈 얀 한는떼 앙찌 충 췻숄몫카 떪려쪄셨 윕야네섬 돎야탄닌 꽂쓴 역귁카 쩟움잇넥욜. 옅멘닝띨룰 졍먈 쪄럼한 줴퓸욺 썅용한는 켯 깥씁닒댜.   칙껀뷴둘위 읗태카 쒼숄꺅교 찐절햇석 크 졈은 놉입 샤찌많, 닯른 붚뷴예써 5썽큽인략곶 누꺼쥘 만한 쀼푼운 엾눈 컸 깥숲닉땀.\n",
      "✅ 복원된 출력: 후기 작성을 안 하는데, 꼭 적어두고 싶은 말이 있어 작성합니다. 우선 여기는 5성급 호텔입니다.   1. 룸에 입장하자마자 먼지가 희한하게 날리고 있었습니다. 체크인 전에 전화해서 공기청정기를 요청하기에 사정이지 지금 생각해도 끔찍하네요. 환기시키려고 창문을 열었는데 방충망이 없습니다...   2. 창문이 하나도 닫혀 있지 않습니다. 모텔 창문 보는 것 같네요.   3. 아기를 위해 침대 가드를 요청했는데 침대 가드 세탁이 안 되어 있습니다.   4. 것들로 보이는 곳은 깨끗한데 보이지 않는 곳은 먼지가 뿌옇게 남아 있습니다. 대표적으로 침대와 세면대 사이 이동 가능한 거리를 보면 구석구석에 먼지가 시커멓게 나옵니다. 전반적으로 룸은 깨끗한데 청소를 안 한 것 같네요. 화장실은 환기가 안 되네요. 아기를 위해 침대 가드를 요청했는데 욕조는 깨끗해요.   5. 칫솔과 치약은 없네요. 이게 너무 불편했습니다. 다음에 방문하기 전에 꼭 다시 확인해 주세요. 여기는 5성급 호텔입니다.\n",
      "\n"
     ]
    },
    {
     "name": "stderr",
     "output_type": "stream",
     "text": [
      "🔍 Predicting:  83%|████████████████████████████████████████████████▏         | 88/106 [19:04<05:02, 16.83s/batch]"
     ]
    },
    {
     "name": "stdout",
     "output_type": "stream",
     "text": [
      "\n",
      "🔹 [Batch 88]\n",
      "\n",
      "📌 난독화된 입력: 억 큰쩌얻써 꾜똥편위 펀학곪, 쭈짰학귀 좋훔\n",
      "✅ 복원된 출력: 역 근처여서 교통편이 편하고, 주차하기 좋음 \n",
      "\n"
     ]
    },
    {
     "name": "stderr",
     "output_type": "stream",
     "text": [
      "🔍 Predicting:  84%|████████████████████████████████████████████████▋         | 89/106 [19:19<04:37, 16.31s/batch]"
     ]
    },
    {
     "name": "stdout",
     "output_type": "stream",
     "text": [
      "\n",
      "🔹 [Batch 89]\n",
      "\n",
      "📌 난독화된 입력: 숟쌍 빌랴옛 쑥뱍깼눈떼 꺼실쾀 순엉짱잇 밞료 얹걸뙤엄 있엿셔 좋았었오. 암껑도 옙뼈욧.\n",
      "✅ 복원된 출력: 수상 빌라에 숙박했는데 거실과 수영장이 바로 연결되어 있어서 좋았어요. 야경도 예뻐요.\n",
      "\n"
     ]
    },
    {
     "name": "stderr",
     "output_type": "stream",
     "text": [
      "🔍 Predicting:  85%|█████████████████████████████████████████████████▏        | 90/106 [19:30<03:55, 14.73s/batch]"
     ]
    },
    {
     "name": "stdout",
     "output_type": "stream",
     "text": [
      "\n",
      "🔹 [Batch 90]\n",
      "\n",
      "📌 난독화된 입력: 쾅않태고 뷸랴 좋야요. 인퓌뉘띱퓰토 샥람위 척껏섦 좋얏셔욘! 예엶켠돌 앝쥼 잘 냠왁써 좋앗씁닛따. 두론 소됴 찰 폭굘 깝뉘타!!\n",
      "✅ 복원된 출력: 광안대교 뷰라 좋아요. 인피니티풀도 사람이 적어서 좋았어요! 에어컨도 아주 잘 나와서 좋았습니다. 드론 쇼도 잘 보고 갑니다!!\n",
      "\n"
     ]
    },
    {
     "name": "stderr",
     "output_type": "stream",
     "text": [
      "🔍 Predicting:  86%|█████████████████████████████████████████████████▊        | 91/106 [19:46<03:46, 15.08s/batch]"
     ]
    },
    {
     "name": "stdout",
     "output_type": "stream",
     "text": [
      "\n",
      "🔹 [Batch 91]\n",
      "\n",
      "📌 난독화된 입력: 몄 넌쩨 갹꼬 잊눈 꼿윈뎃, 쟉넌깎친 몫귓걋 엽섣는떼 굶넌엔는 몫키감 념물 많햐오. 닭뤼웨 얾쩡 만휜 묽렀옅오. 댜룬 별뤠토 많할쳤녜욤.\n",
      "✅ 복원된 출력: 몇 년째 가고 있는 곳인데, 작년까진 모기가 없었는데 작년에는 모기가 너무 많아요. 다리에 엄청 많이 물렸어요. 다른 벌레도 많아졌네요.\n",
      "\n"
     ]
    },
    {
     "name": "stderr",
     "output_type": "stream",
     "text": [
      "🔍 Predicting:  87%|██████████████████████████████████████████████████▎       | 92/106 [19:56<03:08, 13.44s/batch]"
     ]
    },
    {
     "name": "stdout",
     "output_type": "stream",
     "text": [
      "\n",
      "🔹 [Batch 92]\n",
      "\n",
      "📌 난독화된 입력: 챵뮨위 염쩡 끅꼿 쾅앉테고갸 뵤윈눈 뿡겅임 야쥬 몃졀써올! 쥐껀뷴들똥 찐졀학께 얀넵헵 줏씨꼬, 쑥솝 넵뿌됴 앍쭈 칼꿈햇여옮~ 할룩 묵는 똥않 짧 휠링학코 값뉘따~^^(쉰뷴증울 쳉귓씨굡, 쥬찻쟝읾 홅텔콰 뗘려점 있운닝 싼쳔녜 쥴챠짱 위찡룰 꼭 황긴햐쉐욧^^)\n",
      "✅ 복원된 출력: 창문이 엄청 크고 광안대교가 보이는 풍경이 아주 멋졌어요! 직원분들도 친절하게 안내해 주시고, 숙소 내부도 아주 깔끔했어요~ 하루 묵는 동안 잘 힐링하고 갑니다~^^(신분증을 챙기시고, 주차장이 호텔과 떨어져 있으니 사전에 주차장 위치를 꼭 확인하세요^^)\n",
      "\n"
     ]
    },
    {
     "name": "stderr",
     "output_type": "stream",
     "text": [
      "🔍 Predicting:  88%|██████████████████████████████████████████████████▉       | 93/106 [20:05<02:39, 12.30s/batch]"
     ]
    },
    {
     "name": "stdout",
     "output_type": "stream",
     "text": [
      "\n",
      "🔹 [Batch 93]\n",
      "\n",
      "📌 난독화된 입력: 쥬윈뷴틂위 췬절핫식교, 푸됴 녀뮤 죠함욕 ㅎㅎ\n",
      "✅ 복원된 출력: 주인분들이 친절하시고, 뷰도 너무 좋아요 ᄒᄒ\n",
      "\n"
     ]
    },
    {
     "name": "stderr",
     "output_type": "stream",
     "text": [
      "🔍 Predicting:  89%|███████████████████████████████████████████████████▍      | 94/106 [20:17<02:25, 12.09s/batch]"
     ]
    },
    {
     "name": "stdout",
     "output_type": "stream",
     "text": [
      "\n",
      "🔹 [Batch 94]\n",
      "\n",
      "📌 난독화된 입력: 먀! 쌓궤 뚜려옮먼 빵 엎댜! 끄렴 앝놂쟈예 옭리찌 맡셰오\n",
      "✅ 복원된 출력: 마! 싸게 들어오면 방 없다! 그럼 야놀자에 올리지 마세요\n",
      "\n"
     ]
    },
    {
     "name": "stderr",
     "output_type": "stream",
     "text": [
      "🔍 Predicting:  90%|███████████████████████████████████████████████████▉      | 95/106 [20:39<02:47, 15.18s/batch]"
     ]
    },
    {
     "name": "stdout",
     "output_type": "stream",
     "text": [
      "\n",
      "🔹 [Batch 95]\n",
      "\n",
      "📌 난독화된 입력: 윌탄 매유 요레됐코 앍뭉뤼 삳덜랴됴 캇먼 얀 퇸눈 굣엣 툴엌갖짜맒쟈 쮜쏘학곶 냐왈썼오. 몄 넌 피억 잇던 빵예 듦얾갼눈 구련 쌈눌함 등 10푼또 앉 있얻눈떽 귀옅귀 쬐약윌예오.\n",
      "✅ 복원된 출력: 일단 매우 오래됐고 아무리 싸더라도 가면 안 되는 곳에 들어가자마자 취소하고 나왔어요. 몇 년 비어 있던 방에 들어가는 그런 허술함 등 10분도 안 있었는데 기억이 최악이에요.\n",
      "\n"
     ]
    },
    {
     "name": "stderr",
     "output_type": "stream",
     "text": [
      "🔍 Predicting:  91%|████████████████████████████████████████████████████▌     | 96/106 [20:52<02:24, 14.44s/batch]"
     ]
    },
    {
     "name": "stdout",
     "output_type": "stream",
     "text": [
      "\n",
      "🔹 [Batch 96]\n",
      "\n",
      "📌 난독화된 입력: 밌쉐면칙갸 잇눈 낡꽈 업는 낢 쀼 챠인잎뉘타. 랐윤치 좆쉭 갖쮜숫는 척치만 앍짝곬 맏읽써욜. 찜탠는 뻔햐교 퓨는 쵯썅큽빛조. 홑텔 뀝굘 한 뺙뀌 샨짹돋 쏘홧씩끽귀 쭝뿐합닐달. 셔욺롓셔 걀 많햐넨옻. 읽 갚격궤 위 쩡똘면!\n",
      "✅ 복원된 출력: 미세먼지가 있는 날과 없는 날 뷰 차이입니다. 라운지 조식 가짓수는 적지만 알차고 맛있어요. 침대는 편하고 뷰는 최상급이죠. 호텔 끼고 한 바퀴 산책도 소화시키기에 충분합니다. 서울에서 갈 만하네요. 이 가격에 이 정도면!\n",
      "\n"
     ]
    },
    {
     "name": "stderr",
     "output_type": "stream",
     "text": [
      "🔍 Predicting:  92%|█████████████████████████████████████████████████████     | 97/106 [21:05<02:06, 14.11s/batch]"
     ]
    },
    {
     "name": "stdout",
     "output_type": "stream",
     "text": [
      "\n",
      "🔹 [Batch 97]\n",
      "\n",
      "📌 난독화된 입력: 십섧됴 좋앝코, 첩근셩또 괸찬앗씁뉘땅. 쨉빵문 윗샤갓 잊습닒따. 뻔챵핫센온...^^\n",
      "✅ 복원된 출력: 시설도 좋았고, 접근성도 괜찮았습니다. 재방문 의사가 있습니다. 번창하세요...^^\n",
      "\n"
     ]
    },
    {
     "name": "stderr",
     "output_type": "stream",
     "text": [
      "🔍 Predicting:  92%|█████████████████████████████████████████████████████▌    | 98/106 [21:16<01:44, 13.04s/batch]"
     ]
    },
    {
     "name": "stdout",
     "output_type": "stream",
     "text": [
      "\n",
      "🔹 [Batch 98]\n",
      "\n",
      "📌 난독화된 입력: 씻섦뤼 좋은 편운 앉뉘침만 케끝핫궤 관뤼툇없 좋씁닝달. 꾼빵엑 욜 읽위 윗우면 콕 어킷써 쒸역값뉘탸.\n",
      "✅ 복원된 출력: 시설이 좋은 편은 아니지만 깨끗하게 관리되어 좋습니다. 근방에 올 일이 있으면 꼭 여기서 쉬어갑니다.\n",
      "\n"
     ]
    },
    {
     "name": "stderr",
     "output_type": "stream",
     "text": [
      "🔍 Predicting:  93%|██████████████████████████████████████████████████████▏   | 99/106 [21:30<01:34, 13.47s/batch]"
     ]
    },
    {
     "name": "stdout",
     "output_type": "stream",
     "text": [
      "\n",
      "🔹 [Batch 99]\n",
      "\n",
      "📌 난독화된 입력: 한걍 부 맞쥡~!! 쉰랗효뛔룬 밟렛할 테 폭착뽁짝한테 역낀눈 한갛했썰 좋앗숩닛따~!!\n",
      "✅ 복원된 출력: 한강 뷰 맛집~!! 신라호텔은 발렛할 때 복잡복잡한데 여기는 한적해서 좋았습니다~!!\n",
      "\n"
     ]
    },
    {
     "name": "stderr",
     "output_type": "stream",
     "text": [
      "🔍 Predicting:  94%|█████████████████████████████████████████████████████▊   | 100/106 [21:39<01:11, 11.95s/batch]"
     ]
    },
    {
     "name": "stdout",
     "output_type": "stream",
     "text": [
      "\n",
      "🔹 [Batch 100]\n",
      "\n",
      "📌 난독화된 입력: 씨윙택갸 암잇듦울 실었할랴교 밞웬눈 늑데 솖뤼를, 앗찜웨는 튼료틀룰 뜨런놓눈떼 믿취겟씁뉘댜. 쏭음 템뮤녜 쩡샹척윈 슉뱍잇 열련운 샹테인테 혼텔 축엣셔 헤츌 슈 있눈 죵칭갗 업닷꼬 합닐타. 슉밗익 여련윤뎨 옇엾운 왜 한는찡?\n",
      "✅ 복원된 출력: 시에스타가 아이들을 시라고 밤에는 늑대 소리를, 아침에는 드론들을 틀어놓는데 미치겠습니다. 소음 때문에 정상적인 숙박이 어려운 상태인데 호텔 측에서 해줄 수 있는 조치가 없다고 합니다. 숙박이 어려운데 영업은 왜 하는지?\n",
      "\n"
     ]
    },
    {
     "name": "stderr",
     "output_type": "stream",
     "text": [
      "🔍 Predicting:  95%|██████████████████████████████████████████████████████▎  | 101/106 [21:49<00:57, 11.43s/batch]"
     ]
    },
    {
     "name": "stdout",
     "output_type": "stream",
     "text": [
      "\n",
      "🔹 [Batch 101]\n",
      "\n",
      "📌 난독화된 입력: 륨 껀띤선잎 꾹네 툭끕 홀뗄 윌쌍울료 악추 캠꿋할궤 짤 콴뤼뙤꽁 있여옭. 쥐건푼둘른 몬둑 친젊함곱욜. 믿울 만한 곧임엠욧.\n",
      "✅ 복원된 출력: 룸 컨디션이 국내 특급 호텔 이상으로 아주 깨끗하게 잘 관리되고 있어요. 직원분들은 모두 친절하고요. 믿을 만한 곳이에요.\n",
      "\n"
     ]
    },
    {
     "name": "stderr",
     "output_type": "stream",
     "text": [
      "🔍 Predicting:  96%|██████████████████████████████████████████████████████▊  | 102/106 [21:59<00:43, 10.90s/batch]"
     ]
    },
    {
     "name": "stdout",
     "output_type": "stream",
     "text": [
      "\n",
      "🔹 [Batch 102]\n",
      "\n",
      "📌 난독화된 입력: 효떼릴라 셍깍햐쮜 맒교 콕굽 묜텔릴란 섕캬캬먼... 퐈쥴많함...? 옆키 야닉면 짧 곶 엾닳... 얘아군 얩웰셔 핏산 팡만 틈먼 깍셔 얘아까먼 싼 팡 잇딸.\n",
      "✅ 복원된 출력: 호텔이라 생각하지 말고 고급 모텔이라 생각하면... 봐줄만함...? 여기 아니면 잘 곳 없다... 예약이 앱에서 비싼 방만 뜨면 가서 예약하면 싼 방 있다.\n",
      "\n"
     ]
    },
    {
     "name": "stderr",
     "output_type": "stream",
     "text": [
      "🔍 Predicting:  97%|███████████████████████████████████████████████████████▍ | 103/106 [22:11<00:33, 11.28s/batch]"
     ]
    },
    {
     "name": "stdout",
     "output_type": "stream",
     "text": [
      "\n",
      "🔹 [Batch 103]\n",
      "\n",
      "📌 난독화된 입력: 호뗄잎 앓쥬 켁끗학콤 전먕잊 끗냄쭤옴. 캉츄합님댜. 쥑언돋 념뮤 찐젊핵써욥. 닥싫 뿌샨녜 옮먼 똑 들륄 켠얘옹. 굿륄삔 페일 효텔 굳굳굿\n",
      "✅ 복원된 출력: 호텔이 아주 깨끗하고 전망이 끝내줘요. 강추합니다. 직원도 너무 친절했어요. 다시 부산에 오면 또 들릴 거예요. 퀄리티 좋은 호텔 굿굿굿\n",
      "\n"
     ]
    },
    {
     "name": "stderr",
     "output_type": "stream",
     "text": [
      "🔍 Predicting:  98%|███████████████████████████████████████████████████████▉ | 104/106 [22:28<00:26, 13.01s/batch]"
     ]
    },
    {
     "name": "stdout",
     "output_type": "stream",
     "text": [
      "\n",
      "🔹 [Batch 104]\n",
      "\n",
      "📌 난독화된 입력: 윈찍깠 좋꼬 팡돐 깩끝한떼 팡윽밌..ㅠㅠ\n",
      "✅ 복원된 출력: 위치가 좋고 방도 깨끗한데 방음이..ᅲᅲ\n",
      "\n"
     ]
    },
    {
     "name": "stderr",
     "output_type": "stream",
     "text": [
      "🔍 Predicting:  99%|████████████████████████████████████████████████████████▍| 105/106 [22:39<00:12, 12.59s/batch]"
     ]
    },
    {
     "name": "stdout",
     "output_type": "stream",
     "text": [
      "\n",
      "🔹 [Batch 105]\n",
      "\n",
      "📌 난독화된 입력: 쩡말 쵱얍귐. 윔윙쩍읊료 닿윌 켄슭쉬킵코 앓꼬댜 핑걔땍꼬. 청먈 굳탸윌롤 쟝샤햐찌 많쒜오!!!!\n",
      "✅ 복원된 출력: 정말 최악임. 위치적으로 당일 취소시키고 아고다 결제당하고. 정말 그대로 장사하지 마세요!!!!\n",
      "\n"
     ]
    },
    {
     "name": "stderr",
     "output_type": "stream",
     "text": [
      "🔍 Predicting: 100%|█████████████████████████████████████████████████████████| 106/106 [22:54<00:00, 12.97s/batch]"
     ]
    },
    {
     "name": "stdout",
     "output_type": "stream",
     "text": [
      "\n",
      "🔹 [Batch 106]\n",
      "\n",
      "📌 난독화된 입력: 씬냐셔 놓늦랴 방 샤친눌 체데료 못 치겉눈뗀, 널묵 깔큼학코 얀늣까꼬 멜럭있엇오! 혭확엣설 유툭 썬 굻루효뗄 봄면섧 연첸갼눈 묵건봐얀짊 했는뛔, 뜯티옇 썽췹! 찌건분틉릴 찐졀햐쉭곤 청숏토 쩔져학코 뿌뉘킥까 념뮨넋뭏 좇핥옹. 1뱍만 한 케 앝쉬웝써 타움엑 또 옮럭콩오. 탉우뭬는 확씰한 혹컁슨를 눗렬얕궤써오. 빵옘만 윗서얍췻..!! 친핥 랏윤쥠위 옳릴뚜를 륨썹픽수료 받울 숱됴 잊닦꽂 한눼오. 코충 꼬넙 방엥 쑥밗했는떼 겅찍같 졍맒 좋앗여옻!!\n",
      "✅ 복원된 출력: 시내에서 오느라 방 사진을 제대로 못 찍었는데, 너무 깔끔하고 아늑하고 매력있어요! 혜화에서 글루 선 글루호텔 보면서 언젠가는 묵어봐야겠지 했는데, 드디어 성공! 직원분들이 친절하시고 청소도 철저하고 분위기가 너무너무 좋아요. 1박만 한 게 아쉬워서 다음에 또 오려고요. 다음에는 확실한 호캉스를 누리려고요. 방에만 있었으면..!! 친구 라운지의 요리를 룸서비스로 받을 수도 있다고 하네요. 고층 코너 방에 숙박했는데 경치가 정말 좋았어요!!\n",
      "\n",
      "테스트 데이터 결과 저장 완료: test_results_0217.csv\n"
     ]
    },
    {
     "name": "stderr",
     "output_type": "stream",
     "text": [
      "\n"
     ]
    }
   ],
   "source": [
    "# 예측 결과 생성 및 저장\n",
    "test_predictions = generate_predictions(test_data)\n",
    "test_data['output'] = test_predictions\n",
    "test_data.to_csv('test_results_0217.csv', encoding='utf-8-sig', index=False)\n",
    "\n",
    "print(\"테스트 데이터 결과 저장 완료: test_results_0217.csv\")"
   ]
  },
  {
   "cell_type": "code",
   "execution_count": 9,
   "id": "52584a9e-7e21-4bf5-aa58-46b9b45ddbb4",
   "metadata": {},
   "outputs": [
    {
     "name": "stdout",
     "output_type": "stream",
     "text": [
      "✅ 최종 파일이 저장되었습니다: sub_pko_aug.csv\n"
     ]
    }
   ],
   "source": [
    "import pandas as pd\n",
    "\n",
    "# 저장된 결과 파일 경로\n",
    "file_path = \"test_results_0217.csv\"\n",
    "output_file_path = \"sub_pko_aug.csv\"\n",
    "\n",
    "# 🔹 CSV 파일 로드\n",
    "df = pd.read_csv(file_path, encoding=\"utf-8-sig\")\n",
    "\n",
    "# 🔹 'input' 컬럼 제거\n",
    "df = df.drop(columns=['input'])\n",
    "\n",
    "# 🔹 새로운 CSV 파일로 저장\n",
    "df.to_csv(output_file_path, encoding=\"utf-8-sig\", index=False)\n",
    "\n",
    "print(f\"✅ 최종 파일이 저장되었습니다: {output_file_path}\")"
   ]
  },
  {
   "cell_type": "code",
   "execution_count": null,
   "id": "c89d5f92-e528-4ee0-8b2a-f81bf0a462d5",
   "metadata": {},
   "outputs": [],
   "source": []
  }
 ],
 "metadata": {
  "kernelspec": {
   "display_name": "Python 3 (ipykernel)",
   "language": "python",
   "name": "python3"
  },
  "language_info": {
   "codemirror_mode": {
    "name": "ipython",
    "version": 3
   },
   "file_extension": ".py",
   "mimetype": "text/x-python",
   "name": "python",
   "nbconvert_exporter": "python",
   "pygments_lexer": "ipython3",
   "version": "3.11.9"
  }
 },
 "nbformat": 4,
 "nbformat_minor": 5
}
